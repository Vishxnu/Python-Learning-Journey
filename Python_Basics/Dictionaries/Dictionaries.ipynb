{
 "cells": [
  {
   "cell_type": "code",
   "execution_count": 1,
   "id": "fddd846f-5fc0-4463-a00a-f24be785fde2",
   "metadata": {},
   "outputs": [],
   "source": [
    "                                        # ==========================================================\n",
    "                                        # 🐍 The Legend of Python - Day 9 Solutions\n",
    "                                        # Dictionaries\n",
    "                                        # =========================================================="
   ]
  },
  {
   "cell_type": "code",
   "execution_count": 2,
   "id": "ecdf163d-4c54-4ea7-aa78-4b68400e1ef9",
   "metadata": {},
   "outputs": [
    {
     "name": "stdout",
     "output_type": "stream",
     "text": [
      "Found: {'name': 'Amit', 'age': 15, 'grade': '10th', 'subjects': ['Math', 'Science', 'Computer']}\n",
      "All students: {1: {'name': 'Amit', 'age': 15, 'grade': '10th', 'subjects': ['Math', 'Science', 'Computer']}}\n"
     ]
    }
   ],
   "source": [
    "# ----------------------------------------------------------\n",
    "# Q1: Student Management System\n",
    "# Features:\n",
    "# - Update student info\n",
    "# - Remove student\n",
    "# - Search by name or age\n",
    "# - Display all students\n",
    "# ----------------------------------------------------------\n",
    "students = {\n",
    "    1: {\"name\": \"Amit\", \"age\": 15, \"grade\": \"9th\", \"subjects\": [\"Math\", \"Science\"]},\n",
    "    2: {\"name\": \"Riya\", \"age\": 14, \"grade\": \"8th\", \"subjects\": [\"English\", \"History\"]}\n",
    "}\n",
    "\n",
    "# Update student info\n",
    "students[1][\"grade\"] = \"10th\"\n",
    "students[1][\"subjects\"].append(\"Computer\")\n",
    "\n",
    "# Remove student\n",
    "students.pop(2)\n",
    "\n",
    "# Search student\n",
    "search_name = \"Amit\"\n",
    "for sid, info in students.items():\n",
    "    if info[\"name\"] == search_name or info[\"age\"] == 15:\n",
    "        print(\"Found:\", info)\n",
    "\n",
    "# Display all\n",
    "print(\"All students:\", students)\n"
   ]
  },
  {
   "cell_type": "code",
   "execution_count": 3,
   "id": "bc5cb00a-1d8c-483d-a32f-48f08433bcc6",
   "metadata": {},
   "outputs": [
    {
     "name": "stdout",
     "output_type": "stream",
     "text": [
      "Total revenue: 370000\n",
      "Best-selling product: Headphones\n",
      "Unique products: {'Mobile', 'Laptop', 'Headphones'}\n",
      "Average price: 30500.0\n"
     ]
    }
   ],
   "source": [
    "# ----------------------------------------------------------\n",
    "# Q2: Sales data analysis\n",
    "# Tuple: (product, price, quantity, date)\n",
    "# ----------------------------------------------------------\n",
    "sales = [\n",
    "    (\"Laptop\", 50000, 3, \"2025-08-01\"),\n",
    "    (\"Mobile\", 20000, 5, \"2025-08-02\"),\n",
    "    (\"Laptop\", 50000, 2, \"2025-08-03\"),\n",
    "    (\"Headphones\", 2000, 10, \"2025-08-04\")\n",
    "]\n",
    "\n",
    "# Total sales revenue\n",
    "total = sum(price * qty for _, price, qty, _ in sales)\n",
    "print(\"Total revenue:\", total)\n",
    "\n",
    "# Best-selling product\n",
    "from collections import Counter\n",
    "product_counter = Counter()\n",
    "for product, price, qty, date in sales:\n",
    "    product_counter[product] += qty\n",
    "print(\"Best-selling product:\", product_counter.most_common(1)[0][0])\n",
    "\n",
    "# Unique products\n",
    "print(\"Unique products:\", set(p for p, _, _, _ in sales))\n",
    "\n",
    "# Average price\n",
    "avg_price = sum(price for _, price, _, _ in sales) / len(sales)\n",
    "print(\"Average price:\", avg_price)"
   ]
  },
  {
   "cell_type": "code",
   "execution_count": 4,
   "id": "ed238520-8432-4c31-9b8a-6a97ae6564a1",
   "metadata": {},
   "outputs": [
    {
     "name": "stdout",
     "output_type": "stream",
     "text": [
      "Books after 2010: ['Python Basics', 'ML Mastery']\n",
      "High-rated: {'title': 'Python Basics', 'author': 'Guido', 'publication_year': 2015, 'ratings': [4, 5, 5]}\n",
      "High-rated: {'title': 'Deep Learning', 'author': 'Ian', 'publication_year': 2017, 'ratings': [4, 4, 5]}\n",
      "High-rated: {'title': 'ML Mastery', 'author': 'Tom', 'publication_year': 2021, 'ratings': [5, 5, 4]}\n",
      "High-rated: {'title': 'Data Science', 'author': 'Anna', 'publication_year': 2022, 'ratings': [5, 4, 5]}\n",
      "Average rating in 2021 : 4.666666666666667\n"
     ]
    }
   ],
   "source": [
    "# ----------------------------------------------------------\n",
    "# Q3: Book information\n",
    "# ----------------------------------------------------------\n",
    "book_info = [\n",
    "    {\"title\": \"Python Basics\", \"author\": \"Guido\", \"publication_year\": 2015, \"ratings\": [4, 5, 5]},\n",
    "    {\"title\": \"AI Future\", \"author\": \"Sam\", \"publication_year\": 2009, \"ratings\": [3, 4, 4]},\n",
    "    {\"title\": \"ML Mastery\", \"author\": \"Tom\", \"publication_year\": 2021, \"ratings\": [5, 5, 4]}\n",
    "]\n",
    "\n",
    "# Titles after 2010\n",
    "print(\"Books after 2010:\", [b[\"title\"] for b in book_info if b[\"publication_year\"] > 2010])\n",
    "\n",
    "# Add a new book\n",
    "book_info.append({\"title\": \"Data Science\", \"author\": \"Anna\", \"publication_year\": 2022, \"ratings\": [5, 4, 5]})\n",
    "\n",
    "# Insert multiple books\n",
    "book_info.insert(1, {\"title\": \"Deep Learning\", \"author\": \"Ian\", \"publication_year\": 2017, \"ratings\": [4, 4, 5]})\n",
    "\n",
    "# Books with ratings > threshold\n",
    "threshold = 4\n",
    "for b in book_info:\n",
    "    if sum(b[\"ratings\"]) / len(b[\"ratings\"]) > threshold:\n",
    "        print(\"High-rated:\", b)\n",
    "\n",
    "# Average rating of books in a year\n",
    "year = 2021\n",
    "ratings = [sum(b[\"ratings\"]) / len(b[\"ratings\"]) for b in book_info if b[\"publication_year\"] == year]\n",
    "if ratings:\n",
    "    print(\"Average rating in\", year, \":\", sum(ratings) / len(ratings))"
   ]
  },
  {
   "cell_type": "code",
   "execution_count": 5,
   "id": "2b6a6bcd-243a-4a40-994f-8069d5cdd042",
   "metadata": {},
   "outputs": [
    {
     "name": "stdout",
     "output_type": "stream",
     "text": [
      "Found contact: {'phone': '55555', 'address': 'Street 3'}\n",
      "Phone book Delhi: {'Amit': {'phone': '99999', 'address': 'Street 1'}, 'Neha': {'phone': '55555', 'address': 'Street 3'}}\n"
     ]
    }
   ],
   "source": [
    "# ----------------------------------------------------------\n",
    "# Q4: Phone Book (nested dictionary)\n",
    "# ----------------------------------------------------------\n",
    "phone_book = {\n",
    "    \"Delhi\": {\n",
    "        \"Amit\": {\"phone\": \"12345\", \"address\": \"Street 1\"},\n",
    "        \"Riya\": {\"phone\": \"67890\", \"address\": \"Street 2\"}\n",
    "    }\n",
    "}\n",
    "\n",
    "# Add contact\n",
    "phone_book[\"Delhi\"][\"Neha\"] = {\"phone\": \"55555\", \"address\": \"Street 3\"}\n",
    "\n",
    "# Update number\n",
    "phone_book[\"Delhi\"][\"Amit\"][\"phone\"] = \"99999\"\n",
    "\n",
    "# Delete contact\n",
    "phone_book[\"Delhi\"].pop(\"Riya\")\n",
    "\n",
    "# Search contact\n",
    "name = \"Neha\"\n",
    "for city, contacts in phone_book.items():\n",
    "    if name in contacts:\n",
    "        print(\"Found contact:\", contacts[name])\n",
    "\n",
    "# Print phone book for a city\n",
    "print(\"Phone book Delhi:\", phone_book[\"Delhi\"])"
   ]
  },
  {
   "cell_type": "code",
   "execution_count": 6,
   "id": "42b82d81-ceb7-4231-93d5-2368ce0e3de1",
   "metadata": {},
   "outputs": [
    {
     "name": "stdout",
     "output_type": "stream",
     "text": [
      "Employee IDs: dict_keys(['E001', 'E002'])\n",
      "Employee details: dict_values([{'name': 'John', 'department': 'HR', 'salary': 40000}, {'name': 'Sara', 'department': 'IT', 'salary': 60000}])\n",
      "All data: dict_items([('E001', {'name': 'John', 'department': 'HR', 'salary': 40000}), ('E002', {'name': 'Sara', 'department': 'IT', 'salary': 60000})])\n",
      "Department of E002: IT\n",
      "Employee data after clear: {}\n"
     ]
    }
   ],
   "source": [
    "# ----------------------------------------------------------\n",
    "# Q5: Employee data dictionary operations\n",
    "# ----------------------------------------------------------\n",
    "employee_data = {\n",
    "    \"E001\": {\"name\": \"John\", \"department\": \"HR\", \"salary\": 40000},\n",
    "    \"E002\": {\"name\": \"Sara\", \"department\": \"IT\", \"salary\": 60000},\n",
    "}\n",
    "\n",
    "# keys()\n",
    "print(\"Employee IDs:\", employee_data.keys())\n",
    "\n",
    "# values()\n",
    "print(\"Employee details:\", employee_data.values())\n",
    "\n",
    "# items()\n",
    "print(\"All data:\", employee_data.items())\n",
    "\n",
    "# get()\n",
    "print(\"Department of E002:\", employee_data.get(\"E002\")[\"department\"])\n",
    "\n",
    "# update()\n",
    "employee_data[\"E001\"][\"salary\"] = 45000\n",
    "\n",
    "# pop()\n",
    "employee_data.pop(\"E002\")\n",
    "\n",
    "# clear()\n",
    "employee_data.clear()\n",
    "print(\"Employee data after clear:\", employee_data)"
   ]
  },
  {
   "cell_type": "code",
   "execution_count": null,
   "id": "cd39351e-05b4-4b7c-8859-5ce95f5d08fa",
   "metadata": {},
   "outputs": [],
   "source": []
  }
 ],
 "metadata": {
  "kernelspec": {
   "display_name": "Python 3 (ipykernel)",
   "language": "python",
   "name": "python3"
  },
  "language_info": {
   "codemirror_mode": {
    "name": "ipython",
    "version": 3
   },
   "file_extension": ".py",
   "mimetype": "text/x-python",
   "name": "python",
   "nbconvert_exporter": "python",
   "pygments_lexer": "ipython3",
   "version": "3.13.5"
  }
 },
 "nbformat": 4,
 "nbformat_minor": 5
}
