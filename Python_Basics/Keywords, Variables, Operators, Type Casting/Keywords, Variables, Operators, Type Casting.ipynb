{
 "cells": [
  {
   "cell_type": "code",
   "execution_count": 2,
   "id": "bef7a5e7-dfd9-4b9d-ad1b-5e52960a1113",
   "metadata": {},
   "outputs": [],
   "source": [
    "                                        # ==========================================================\n",
    "                                        # 🐍 The Legend of Python - Day 1 Solutions\n",
    "                                        # Each question has its task description as comments\n",
    "                                        # ==========================================================\n"
   ]
  },
  {
   "cell_type": "code",
   "execution_count": 2,
   "id": "28aa0f1c-fd05-472d-839a-2db38067ee4a",
   "metadata": {},
   "outputs": [
    {
     "name": "stdin",
     "output_type": "stream",
     "text": [
      "Enter area in float:  4569.65\n"
     ]
    },
    {
     "name": "stdout",
     "output_type": "stream",
     "text": [
      "4569\n"
     ]
    }
   ],
   "source": [
    "# ----------------------------------------------------------\n",
    "# Q1: Convert float area to integer\n",
    "# Task: Madhu got garden area in float, convert to int.\n",
    "# Example Input: 4569.65\n",
    "# Example Output: 4569\n",
    "# ----------------------------------------------------------\n",
    "area = float(input(\"Enter area in float: \"))\n",
    "print(int(area))"
   ]
  },
  {
   "cell_type": "code",
   "execution_count": 3,
   "id": "9172b5ea-fb57-4bf6-9679-27d62640fbec",
   "metadata": {},
   "outputs": [
    {
     "name": "stdin",
     "output_type": "stream",
     "text": [
      "Enter total number of mangoes:  13\n",
      "Enter number of grandchildren:  5\n"
     ]
    },
    {
     "name": "stdout",
     "output_type": "stream",
     "text": [
      "2\n",
      "3\n"
     ]
    }
   ],
   "source": [
    "# ----------------------------------------------------------\n",
    "# Q2: Mango distribution\n",
    "# Task: Grandma has N mangoes, X grandchildren.\n",
    "# Find how many each gets and how many remain.\n",
    "# Example Input:\n",
    "# 13\n",
    "# 5\n",
    "# Example Output:\n",
    "# 2\n",
    "# 3\n",
    "# ----------------------------------------------------------\n",
    "N = int(input(\"Enter total number of mangoes: \"))\n",
    "X = int(input(\"Enter number of grandchildren: \"))\n",
    "print(N // X)   # Each grandchild gets\n",
    "print(N % X)    # Remaining mangoes"
   ]
  },
  {
   "cell_type": "code",
   "execution_count": 5,
   "id": "58dcae18-9fc6-4b53-ac3c-c184717ff7c0",
   "metadata": {},
   "outputs": [
    {
     "name": "stdin",
     "output_type": "stream",
     "text": [
      "Enter sides AC and BC separated by space:  8 6\n",
      "Enter radius of circle:  2\n"
     ]
    },
    {
     "name": "stdout",
     "output_type": "stream",
     "text": [
      "11.44\n"
     ]
    }
   ],
   "source": [
    "# ----------------------------------------------------------\n",
    "# Q3: Remaining area of triangle after removing circle\n",
    "# Task: Find triangle area (0.5 * AC * BC) - circle area (3.14*r^2)\n",
    "# Example Input:\n",
    "# 8 6\n",
    "# 2\n",
    "# Example Output: 11.44\n",
    "# ----------------------------------------------------------\n",
    "AC, BC = map(float, input(\"Enter sides AC and BC separated by space: \").split())\n",
    "r = float(input(\"Enter radius of circle: \"))\n",
    "triangle_area = 0.5 * AC * BC\n",
    "circle_area = 3.14 * (r ** 2)\n",
    "print(round(triangle_area - circle_area, 2))"
   ]
  },
  {
   "cell_type": "code",
   "execution_count": 6,
   "id": "621ae241-c12e-4bba-a825-87062dcd06d3",
   "metadata": {},
   "outputs": [
    {
     "name": "stdin",
     "output_type": "stream",
     "text": [
      "Enter mother's age:  38\n",
      "Enter daughter's age:  19\n"
     ]
    },
    {
     "name": "stdout",
     "output_type": "stream",
     "text": [
      "True\n"
     ]
    }
   ],
   "source": [
    "# ----------------------------------------------------------\n",
    "# Q4: Mother & Daughter age truth check\n",
    "# Task: Mother says: \"I was as old as you now, at your birth\".\n",
    "# That means X = 2Y\n",
    "# Example Input:\n",
    "# 38\n",
    "# 19\n",
    "# Example Output: True\n",
    "# ----------------------------------------------------------\n",
    "mother_age = int(input(\"Enter mother's age: \"))\n",
    "daughter_age = int(input(\"Enter daughter's age: \"))\n",
    "print(mother_age == 2 * daughter_age)"
   ]
  },
  {
   "cell_type": "code",
   "execution_count": 7,
   "id": "b748292b-74e9-40e9-94b3-45bc5382fbd0",
   "metadata": {},
   "outputs": [
    {
     "name": "stdin",
     "output_type": "stream",
     "text": [
      "Enter age:  19.5\n",
      "Enter weight:  52.6\n",
      "Enter 1 if healthy, 0 if diseased:  1\n"
     ]
    },
    {
     "name": "stdout",
     "output_type": "stream",
     "text": [
      "True\n"
     ]
    }
   ],
   "source": [
    "# ----------------------------------------------------------\n",
    "# Q5: Blood donation eligibility\n",
    "# Task: Age>=18, Weight>=50, No disease=1\n",
    "# Example Input 1:\n",
    "# 19.5\n",
    "# 52.6\n",
    "# 1\n",
    "# Output 1: True\n",
    "# Example Input 2:\n",
    "# 51.6\n",
    "# 68\n",
    "# 0\n",
    "# Output 2: False\n",
    "# ----------------------------------------------------------\n",
    "age = float(input(\"Enter age: \"))\n",
    "weight = float(input(\"Enter weight: \"))\n",
    "no_disease = int(input(\"Enter 1 if healthy, 0 if diseased: \"))\n",
    "print(age >= 18 and weight >= 50 and no_disease == 1)"
   ]
  },
  {
   "cell_type": "code",
   "execution_count": 8,
   "id": "820845a2-c457-494a-b2c5-f8e9c7a50784",
   "metadata": {},
   "outputs": [
    {
     "name": "stdin",
     "output_type": "stream",
     "text": [
      "Enter the field description:  Snake is on the field\n"
     ]
    },
    {
     "name": "stdout",
     "output_type": "stream",
     "text": [
      "True\n"
     ]
    }
   ],
   "source": [
    "# ----------------------------------------------------------\n",
    "# Q6: Snake on the field check\n",
    "# Example Input: Snake is on the field\n",
    "# Output: True\n",
    "# Example Input: cat is on the field\n",
    "# Output: False\n",
    "# ----------------------------------------------------------\n",
    "sentence = input(\"Enter the field description: \")\n",
    "print(\"snake\" in sentence.lower())\n"
   ]
  },
  {
   "cell_type": "code",
   "execution_count": 9,
   "id": "e533a0fc-5ca1-47be-b5c8-e5ae9105def3",
   "metadata": {},
   "outputs": [
    {
     "name": "stdin",
     "output_type": "stream",
     "text": [
      "Enter colors separated by space:  green blue white black pink\n"
     ]
    },
    {
     "name": "stdout",
     "output_type": "stream",
     "text": [
      "True\n"
     ]
    }
   ],
   "source": [
    "# ----------------------------------------------------------\n",
    "# Q7: Check for both black & white in colors\n",
    "# Example Input: green blue white black pink\n",
    "# Output: True\n",
    "# Example Input: green blue black pink\n",
    "# Output: False\n",
    "# ----------------------------------------------------------\n",
    "colors = input(\"Enter colors separated by space: \").lower().split()\n",
    "print(\"black\" in colors and \"white\" in colors)"
   ]
  },
  {
   "cell_type": "code",
   "execution_count": 10,
   "id": "32bff383-bbf0-4e10-afa1-83e86b6f4e11",
   "metadata": {},
   "outputs": [
    {
     "name": "stdin",
     "output_type": "stream",
     "text": [
      "Enter your name:  Vishnu\n",
      "Enter your age:  24\n"
     ]
    },
    {
     "name": "stdout",
     "output_type": "stream",
     "text": [
      "Hello Vishnu, you are 24 years old!\n"
     ]
    }
   ],
   "source": [
    "# ----------------------------------------------------------\n",
    "# Q8: Personalized greeting\n",
    "# Example Input:\n",
    "# Vishnu\n",
    "# 21\n",
    "# Output: Hello Vishnu, you are 21 years old!\n",
    "# ----------------------------------------------------------\n",
    "name = input(\"Enter your name: \")\n",
    "age = input(\"Enter your age: \")\n",
    "print(f\"Hello {name}, you are {age} years old!\")"
   ]
  },
  {
   "cell_type": "code",
   "execution_count": 11,
   "id": "d8716c05-b037-4adf-825a-0e0cf3d12f22",
   "metadata": {},
   "outputs": [
    {
     "name": "stdin",
     "output_type": "stream",
     "text": [
      "Enter student name:  Vishnu\n",
      "Enter Math marks:  78\n",
      "Enter Science marks:  85\n",
      "Enter English marks:  92\n"
     ]
    },
    {
     "name": "stdout",
     "output_type": "stream",
     "text": [
      "Name: Vishnu\n",
      "Math: 78.0 Science: 85.0 English: 92.0\n",
      "Total: 255.0\n",
      "Percentage: 85.0\n"
     ]
    }
   ],
   "source": [
    "# ----------------------------------------------------------\n",
    "# Q9: Student marks, total and percentage\n",
    "# Example Input:\n",
    "# Vishnu\n",
    "# 78\n",
    "# 85\n",
    "# 92\n",
    "# Output:\n",
    "# Name: Vishnu\n",
    "# Math: 78.0 Science: 85.0 English: 92.0\n",
    "# Total: 255.0\n",
    "# Percentage: 85.0\n",
    "# ----------------------------------------------------------\n",
    "student_name = input(\"Enter student name: \")\n",
    "math = float(input(\"Enter Math marks: \"))\n",
    "science = float(input(\"Enter Science marks: \"))\n",
    "english = float(input(\"Enter English marks: \"))\n",
    "total = math + science + english\n",
    "percentage = (total / 300) * 100\n",
    "print(\"Name:\", student_name)\n",
    "print(\"Math:\", math, \"Science:\", science, \"English:\", english)\n",
    "print(\"Total:\", total)\n",
    "print(\"Percentage:\", round(percentage, 2))\n"
   ]
  },
  {
   "cell_type": "code",
   "execution_count": 12,
   "id": "e065d565-6018-4cbc-8625-25ec3da5e177",
   "metadata": {},
   "outputs": [
    {
     "name": "stdin",
     "output_type": "stream",
     "text": [
      "Enter value of a:  10\n",
      "Enter value of b:  20\n"
     ]
    },
    {
     "name": "stdout",
     "output_type": "stream",
     "text": [
      "After swapping: a = 20 b = 10\n"
     ]
    }
   ],
   "source": [
    "# ----------------------------------------------------------\n",
    "# Q10: Swap two variables using temp variable\n",
    "# Example Input:\n",
    "# 10\n",
    "# 20\n",
    "# Example Output:\n",
    "# After swapping: a = 20 b = 10\n",
    "# ----------------------------------------------------------\n",
    "a = int(input(\"Enter value of a: \"))\n",
    "b = int(input(\"Enter value of b: \"))\n",
    "temp = a\n",
    "a = b\n",
    "b = temp\n",
    "print(\"After swapping: a =\", a, \"b =\", b)\n"
   ]
  },
  {
   "cell_type": "code",
   "execution_count": 13,
   "id": "174920f1-a807-4d4d-998c-8a5bac688165",
   "metadata": {},
   "outputs": [
    {
     "name": "stdin",
     "output_type": "stream",
     "text": [
      "Enter radius of circle:  5\n"
     ]
    },
    {
     "name": "stdout",
     "output_type": "stream",
     "text": [
      "Area of circle: 78.5\n"
     ]
    }
   ],
   "source": [
    "# ----------------------------------------------------------\n",
    "# Q11: Area of circle\n",
    "# Formula: 3.14 * r^2\n",
    "# Example Input: 5\n",
    "# Example Output: 78.5\n",
    "# ----------------------------------------------------------\n",
    "radius = float(input(\"Enter radius of circle: \"))\n",
    "print(\"Area of circle:\", 3.14 * (radius ** 2))"
   ]
  },
  {
   "cell_type": "code",
   "execution_count": null,
   "id": "ecd35ffe-50ec-4a2e-bce7-08f27d4646fc",
   "metadata": {},
   "outputs": [],
   "source": []
  }
 ],
 "metadata": {
  "kernelspec": {
   "display_name": "Python 3 (ipykernel)",
   "language": "python",
   "name": "python3"
  },
  "language_info": {
   "codemirror_mode": {
    "name": "ipython",
    "version": 3
   },
   "file_extension": ".py",
   "mimetype": "text/x-python",
   "name": "python",
   "nbconvert_exporter": "python",
   "pygments_lexer": "ipython3",
   "version": "3.13.5"
  }
 },
 "nbformat": 4,
 "nbformat_minor": 5
}
