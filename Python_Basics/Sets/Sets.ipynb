{
 "cells": [
  {
   "cell_type": "code",
   "execution_count": 1,
   "id": "ef08c65c-c5ba-46d8-9d13-8d4533079afd",
   "metadata": {},
   "outputs": [],
   "source": [
    "                                        # ==========================================================\n",
    "                                        # 🐍 The Legend of Python - Day 8 Solutions\n",
    "                                        # Sets\n",
    "                                        # =========================================================="
   ]
  },
  {
   "cell_type": "code",
   "execution_count": 2,
   "id": "e91e6571-2884-4878-b4f5-88ac7b83a2b6",
   "metadata": {},
   "outputs": [
    {
     "name": "stdin",
     "output_type": "stream",
     "text": [
      "Enter list of numbers:  1 2 3 2 2 4 5\n"
     ]
    },
    {
     "name": "stdout",
     "output_type": "stream",
     "text": [
      "<class 'set'>\n"
     ]
    }
   ],
   "source": [
    "# ----------------------------------------------------------\n",
    "# Q1: Convert list to set and print type\n",
    "# Example Input: 1 2 3 2 2 4 5\n",
    "# Example Output: <class 'set'>\n",
    "# ----------------------------------------------------------\n",
    "nums = list(map(int, input(\"Enter list of numbers: \").split()))\n",
    "s = set(nums)\n",
    "print(type(s))"
   ]
  },
  {
   "cell_type": "code",
   "execution_count": 3,
   "id": "b5207e1d-a71a-4f91-8d63-a9f8c2e1b25b",
   "metadata": {},
   "outputs": [
    {
     "name": "stdin",
     "output_type": "stream",
     "text": [
      "Enter animals:  Lion Elephant Fox Tiger Giraffe\n"
     ]
    },
    {
     "name": "stdout",
     "output_type": "stream",
     "text": [
      "Type of the original set: <class 'set'>\n",
      "Length of the original set: 5\n",
      "Type of the updated set: <class 'set'>\n",
      "Is Lion in the updated set: False\n",
      "Is Zebra in the updated set: True\n"
     ]
    }
   ],
   "source": [
    "# ----------------------------------------------------------\n",
    "# Q2: Animals set - add Zebra, remove Lion\n",
    "# Example Input: Lion Elephant Fox Tiger Giraffe\n",
    "# Example Output:\n",
    "# Type of the original set: <class 'set'>\n",
    "# Length of the original set: 5\n",
    "# Type of the updated set: <class 'set'>\n",
    "# Is Lion in the updated set: False\n",
    "# Is Zebra in the updated set: True\n",
    "# ----------------------------------------------------------\n",
    "animals = set(input(\"Enter animals: \").split())\n",
    "print(\"Type of the original set:\", type(animals))\n",
    "print(\"Length of the original set:\", len(animals))\n",
    "animals.discard(\"Lion\")\n",
    "animals.add(\"Zebra\")\n",
    "print(\"Type of the updated set:\", type(animals))\n",
    "print(\"Is Lion in the updated set:\", \"Lion\" in animals)\n",
    "print(\"Is Zebra in the updated set:\", \"Zebra\" in animals)"
   ]
  },
  {
   "cell_type": "code",
   "execution_count": 4,
   "id": "8d3fdfec-e56b-4983-904b-d5af76fb109a",
   "metadata": {},
   "outputs": [
    {
     "name": "stdin",
     "output_type": "stream",
     "text": [
      "Enter first word:  Hello\n",
      "Enter second word:  Class\n"
     ]
    },
    {
     "name": "stdout",
     "output_type": "stream",
     "text": [
      "{'o', 'C', 'l', 's', 'H', 'e', 'a'}\n",
      "{'l'}\n"
     ]
    }
   ],
   "source": [
    "# ----------------------------------------------------------\n",
    "# Q3: Union and Intersection of 2 words\n",
    "# Example Input:\n",
    "# Hello\n",
    "# Class\n",
    "# Example Output:\n",
    "# {'H','e','l','o','C','a','s'}\n",
    "# {'l'}\n",
    "# ----------------------------------------------------------\n",
    "w1 = set(input(\"Enter first word: \"))\n",
    "w2 = set(input(\"Enter second word: \"))\n",
    "print(w1.union(w2))\n",
    "print(w1.intersection(w2))"
   ]
  },
  {
   "cell_type": "code",
   "execution_count": 5,
   "id": "786327c4-3531-4159-9736-06e73fdf6b73",
   "metadata": {},
   "outputs": [
    {
     "name": "stdin",
     "output_type": "stream",
     "text": [
      "Enter cricket students:  1 2 3 4 5 6 7 8 9 10 11 12\n",
      "Enter football students:  1 2 3 6 7 12 13 14 15 16 17 18 19 20 21\n"
     ]
    },
    {
     "name": "stdout",
     "output_type": "stream",
     "text": [
      "[1, 2, 3, 6, 7, 12]\n"
     ]
    }
   ],
   "source": [
    "# ----------------------------------------------------------\n",
    "# Q4: Students who played both games\n",
    "# Example Input:\n",
    "# 1 2 3 4 5 6 7 8 9 10 11 12\n",
    "# 1 2 3 6 7 12 13 14 15 16 17 18 19 20 21\n",
    "# Output: [1,2,3,6,7,12]\n",
    "# ----------------------------------------------------------\n",
    "cricket = set(map(int, input(\"Enter cricket students: \").split()))\n",
    "football = set(map(int, input(\"Enter football students: \").split()))\n",
    "print(sorted(list(cricket.intersection(football))))\n"
   ]
  },
  {
   "cell_type": "code",
   "execution_count": 6,
   "id": "d9651317-8237-4663-acf9-7c51f9e0b2c2",
   "metadata": {},
   "outputs": [
    {
     "name": "stdout",
     "output_type": "stream",
     "text": [
      "All unique books: {'The Hobbit', 'Harry Potter', 'Sapiens', 'Educated', '1984'}\n",
      "Common books: {'1984'}\n",
      "Exclusive fiction: {'The Hobbit', 'Harry Potter'}\n",
      "Is 'Harry Potter' in fiction set? True\n"
     ]
    }
   ],
   "source": [
    "# ----------------------------------------------------------\n",
    "# Q5: Books - union, intersection, difference, add/remove\n",
    "# Example:\n",
    "# fiction = (\"Harry Potter\",\"The Hobbit\",\"1984\")\n",
    "# non_fiction = (\"Sapiens\",\"Educated\",\"1984\")\n",
    "# ----------------------------------------------------------\n",
    "fiction = (\"Harry Potter\", \"The Hobbit\", \"1984\")\n",
    "non_fiction = (\"Sapiens\", \"Educated\", \"1984\")\n",
    "\n",
    "f_set = set(fiction)\n",
    "nf_set = set(non_fiction)\n",
    "\n",
    "# Union\n",
    "print(\"All unique books:\", f_set.union(nf_set))\n",
    "\n",
    "# Intersection\n",
    "print(\"Common books:\", f_set.intersection(nf_set))\n",
    "\n",
    "# Difference\n",
    "print(\"Exclusive fiction:\", f_set.difference(nf_set))\n",
    "\n",
    "# Add new book\n",
    "f_set.add(\"Game of Thrones\")\n",
    "\n",
    "# Remove a book\n",
    "nf_set.discard(\"Sapiens\")\n",
    "\n",
    "# Check membership\n",
    "print(\"Is 'Harry Potter' in fiction set?\", \"Harry Potter\" in f_set)"
   ]
  },
  {
   "cell_type": "code",
   "execution_count": null,
   "id": "8f498367-b0d0-4b4a-b1e3-1857da0241b2",
   "metadata": {},
   "outputs": [],
   "source": []
  }
 ],
 "metadata": {
  "kernelspec": {
   "display_name": "Python 3 (ipykernel)",
   "language": "python",
   "name": "python3"
  },
  "language_info": {
   "codemirror_mode": {
    "name": "ipython",
    "version": 3
   },
   "file_extension": ".py",
   "mimetype": "text/x-python",
   "name": "python",
   "nbconvert_exporter": "python",
   "pygments_lexer": "ipython3",
   "version": "3.13.5"
  }
 },
 "nbformat": 4,
 "nbformat_minor": 5
}
