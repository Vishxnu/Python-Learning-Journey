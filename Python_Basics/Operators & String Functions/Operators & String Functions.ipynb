{
 "cells": [
  {
   "cell_type": "code",
   "execution_count": 1,
   "id": "943f4657-0dac-4543-84d9-edce9bdce47f",
   "metadata": {},
   "outputs": [],
   "source": [
    "                                        # ==========================================================\n",
    "                                        # 🐍 The Legend of Python - Day 3 Solutions\n",
    "                                        # Operators & String Functions\n",
    "                                        # ==========================================================\n"
   ]
  },
  {
   "cell_type": "code",
   "execution_count": 3,
   "id": "0ca52aa4-1a98-4c5f-8a8f-75fecf0768e5",
   "metadata": {},
   "outputs": [
    {
     "name": "stdin",
     "output_type": "stream",
     "text": [
      "Enter full name (First Middle Last):  Vishnu S Raj\n"
     ]
    },
    {
     "name": "stdout",
     "output_type": "stream",
     "text": [
      "Full Name: Vishnu S Raj\n",
      "Initials: VSR\n"
     ]
    }
   ],
   "source": [
    "# ----------------------------------------------------------\n",
    "# Q1: Full name validation and initials\n",
    "# Rules: First/Last name ≥ 3 chars, Middle initial = 1 char\n",
    "# Each starts with capital letter. Then print initials.\n",
    "# Example Input: John A Smith\n",
    "# Example Output: John A Smith -> JAS\n",
    "# ----------------------------------------------------------\n",
    "full_name = input(\"Enter full name (First Middle Last): \").split()\n",
    "if (len(full_name[0]) >= 3 and len(full_name[2]) >= 3 and \n",
    "    len(full_name[1]) == 1 and \n",
    "    full_name[0][0].isupper() and full_name[1][0].isupper() and full_name[2][0].isupper()):\n",
    "    initials = full_name[0][0] + full_name[1] + full_name[2][0]\n",
    "    print(\"Full Name:\", \" \".join(full_name))\n",
    "    print(\"Initials:\", initials)\n",
    "else:\n",
    "    print(\"Invalid input\")"
   ]
  },
  {
   "cell_type": "code",
   "execution_count": 4,
   "id": "94b9a65c-9325-4d7b-b6fb-dabb0b38b572",
   "metadata": {},
   "outputs": [
    {
     "name": "stdin",
     "output_type": "stream",
     "text": [
      "Enter Name, Course:  Vishnu,Data Science\n"
     ]
    },
    {
     "name": "stdout",
     "output_type": "stream",
     "text": [
      "Hi Vishnu,\n",
      "Congratulations! You have been enrolled in Data Science.\n",
      "We welcome you to this amazing journey ahead.\n",
      "Best of luck!\n"
     ]
    }
   ],
   "source": [
    "# ----------------------------------------------------------\n",
    "# Q2: Welcome message with Name & Course\n",
    "# Example Input: Rohit, Data Science\n",
    "# Example Output:\n",
    "# Hi Rohit,\n",
    "# Congratulations! You have been enrolled in Data Science.\n",
    "# We welcome you to this amazing journey ahead.\n",
    "# Best of luck!\n",
    "# ----------------------------------------------------------\n",
    "name, course = input(\"Enter Name, Course: \").split(\",\")\n",
    "print(f\"Hi {name.strip()},\")\n",
    "print(f\"Congratulations! You have been enrolled in {course.strip()}.\")\n",
    "print(\"We welcome you to this amazing journey ahead.\")\n",
    "print(\"Best of luck!\")\n"
   ]
  },
  {
   "cell_type": "code",
   "execution_count": 5,
   "id": "866d2bf1-796f-4f08-9897-eee166bcac98",
   "metadata": {},
   "outputs": [
    {
     "name": "stdin",
     "output_type": "stream",
     "text": [
      "Enter number of interjections:  3\n",
      " Wow!\n"
     ]
    },
    {
     "name": "stdout",
     "output_type": "stream",
     "text": [
      "Wow! It's raining.\n"
     ]
    },
    {
     "name": "stdin",
     "output_type": "stream",
     "text": [
      " Hey!\n"
     ]
    },
    {
     "name": "stdout",
     "output_type": "stream",
     "text": [
      "Hey! It's raining.\n"
     ]
    },
    {
     "name": "stdin",
     "output_type": "stream",
     "text": [
      " Yay!\n"
     ]
    },
    {
     "name": "stdout",
     "output_type": "stream",
     "text": [
      "Yay! It's raining.\n"
     ]
    }
   ],
   "source": [
    "# ----------------------------------------------------------\n",
    "# Q3: Interjections with a fixed message\n",
    "# Example Input:\n",
    "# 3\n",
    "# Wow!\n",
    "# Hey!\n",
    "# Yay!\n",
    "# Output: Each interjection + \" It's raining.\"\n",
    "# ----------------------------------------------------------\n",
    "n = int(input(\"Enter number of interjections: \"))\n",
    "for _ in range(n):\n",
    "    word = input()\n",
    "    print(word, \"It's raining.\")\n"
   ]
  },
  {
   "cell_type": "code",
   "execution_count": 7,
   "id": "df04d4e0-e9e4-4ca7-8819-cc77deb01c9c",
   "metadata": {},
   "outputs": [
    {
     "name": "stdin",
     "output_type": "stream",
     "text": [
      "Enter sentence:     The greatest ... -    Nelson Mandela    \n"
     ]
    },
    {
     "name": "stdout",
     "output_type": "stream",
     "text": [
      "The Greatest ... - Nelson Mandela\n"
     ]
    }
   ],
   "source": [
    "# ----------------------------------------------------------\n",
    "# Q4: Clean spaces and capitalize words\n",
    "# Example Input: \"   The greatest ... -    Nelson Mandela    \"\n",
    "# Output: \"The Greatest Glory In Living ... - Nelson Mandela\"\n",
    "# ----------------------------------------------------------\n",
    "text = input(\"Enter sentence: \").strip()\n",
    "cleaned = \" \".join(text.split())\n",
    "print(cleaned.title())"
   ]
  },
  {
   "cell_type": "code",
   "execution_count": 10,
   "id": "8caa7158-cd35-4340-a9bf-a062634497c3",
   "metadata": {},
   "outputs": [
    {
     "name": "stdin",
     "output_type": "stream",
     "text": [
      "Enter number of emails:  2\n",
      " arun.verma1@gmail.com\n"
     ]
    },
    {
     "name": "stdout",
     "output_type": "stream",
     "text": [
      "www.gmail.com\n"
     ]
    },
    {
     "name": "stdin",
     "output_type": "stream",
     "text": [
      " sneha2134@yahoo.com\n"
     ]
    },
    {
     "name": "stdout",
     "output_type": "stream",
     "text": [
      "www.yahoo.com\n"
     ]
    }
   ],
   "source": [
    "# ----------------------------------------------------------\n",
    "# Q5: Extract domain from emails\n",
    "# Example Input:\n",
    "# 2\n",
    "# arun.verma1@gmail.com\n",
    "# sneha2134@yahoo.com\n",
    "# Output:\n",
    "# www.gmail.com\n",
    "# www.yahoo.com\n",
    "# ----------------------------------------------------------\n",
    "n = int(input(\"Enter number of emails: \"))\n",
    "for _ in range(n):\n",
    "    email = input()\n",
    "    domain = email.split(\"@\")[1]\n",
    "    print(\"www.\" + domain)"
   ]
  },
  {
   "cell_type": "code",
   "execution_count": 11,
   "id": "7a753916-2501-4069-b47a-fed9c0e8cede",
   "metadata": {},
   "outputs": [
    {
     "name": "stdin",
     "output_type": "stream",
     "text": [
      "Enter number of usernames:  2\n",
      " arun_shinde_1\n"
     ]
    },
    {
     "name": "stdout",
     "output_type": "stream",
     "text": [
      "Arun Shinde\n"
     ]
    },
    {
     "name": "stdin",
     "output_type": "stream",
     "text": [
      " komal_chavan_3\n"
     ]
    },
    {
     "name": "stdout",
     "output_type": "stream",
     "text": [
      "Komal Chavan\n"
     ]
    }
   ],
   "source": [
    "# ----------------------------------------------------------\n",
    "# Q6: Format usernames (remove number, capitalize names)\n",
    "# Example Input:\n",
    "# 2\n",
    "# arun_shinde_1\n",
    "# komal_chavan_3\n",
    "# Output:\n",
    "# Arun Shinde\n",
    "# Komal Chavan\n",
    "# ----------------------------------------------------------\n",
    "n = int(input(\"Enter number of usernames: \"))\n",
    "for _ in range(n):\n",
    "    user = input().split(\"_\")\n",
    "    print(user[0].capitalize(), user[1].capitalize())"
   ]
  },
  {
   "cell_type": "code",
   "execution_count": 12,
   "id": "fc558afc-be31-4fb5-82cb-782e305481d0",
   "metadata": {},
   "outputs": [
    {
     "name": "stdin",
     "output_type": "stream",
     "text": [
      "Enter password:  manGo@123\n"
     ]
    },
    {
     "name": "stdout",
     "output_type": "stream",
     "text": [
      "Valid\n"
     ]
    }
   ],
   "source": [
    "# ----------------------------------------------------------\n",
    "# Q7: Strong password check\n",
    "# Must have capital, small, digit, special char\n",
    "# Example Input: manGo@123 -> Valid\n",
    "# Example Input: manGo123 -> Not Valid\n",
    "# ----------------------------------------------------------\n",
    "import string\n",
    "password = input(\"Enter password: \")\n",
    "if (any(c.islower() for c in password) and\n",
    "    any(c.isupper() for c in password) and\n",
    "    any(c.isdigit() for c in password) and\n",
    "    any(c in string.punctuation for c in password)):\n",
    "    print(\"Valid\")\n",
    "else:\n",
    "    print(\"Not Valid\")\n"
   ]
  },
  {
   "cell_type": "code",
   "execution_count": 14,
   "id": "86d65493-06c8-455f-b785-2b3b9ad6f321",
   "metadata": {},
   "outputs": [
    {
     "name": "stdin",
     "output_type": "stream",
     "text": [
      "Enter number of customers:  2\n",
      " Nilesh,100\n"
     ]
    },
    {
     "name": "stdout",
     "output_type": "stream",
     "text": [
      "Congratulations, Nilesh! You have won 100 rupees as a refund.\n",
      "~ E-commerce company\n"
     ]
    },
    {
     "name": "stdin",
     "output_type": "stream",
     "text": [
      " Minesh,50\n"
     ]
    },
    {
     "name": "stdout",
     "output_type": "stream",
     "text": [
      "Congratulations, Minesh! You have won 50 rupees as a refund.\n",
      "~ E-commerce company\n"
     ]
    }
   ],
   "source": [
    "# ----------------------------------------------------------\n",
    "# Q8: Cashback message\n",
    "# Example Input:\n",
    "# 2\n",
    "# Nilesh,100\n",
    "# Minesh,50\n",
    "# Output: Congratulations, Nilesh! You have won 100 rupees...\n",
    "# ----------------------------------------------------------\n",
    "n = int(input(\"Enter number of customers: \"))\n",
    "for n in range(n):\n",
    "    name, amount = input().split(\",\")\n",
    "    print(f\"Congratulations, {name.strip()}! You have won {amount.strip()} rupees as a refund.\")\n",
    "    print(\"~ E-commerce company\")"
   ]
  },
  {
   "cell_type": "code",
   "execution_count": 17,
   "id": "87c83468-6dfc-4cc5-b632-4e6628de9aab",
   "metadata": {},
   "outputs": [
    {
     "name": "stdin",
     "output_type": "stream",
     "text": [
      "Enter numbers separated by space:  5 10 15 20\n"
     ]
    },
    {
     "name": "stdout",
     "output_type": "stream",
     "text": [
      "1011010111110100\n"
     ]
    }
   ],
   "source": [
    "# ----------------------------------------------------------\n",
    "# Q9: Convert list of integers to concatenated binary string\n",
    "# Example Input: [5, 10, 15, 20]\n",
    "# Output: \"10101001111100010000\"\n",
    "# ----------------------------------------------------------\n",
    "numbers = list(map(int, input(\"Enter numbers separated by space: \").split()))\n",
    "binary_str = \"\".join(bin(num)[2:] for num in numbers)\n",
    "print(binary_str)"
   ]
  },
  {
   "cell_type": "code",
   "execution_count": 18,
   "id": "396c29db-40f4-42b7-84d8-22494021b61f",
   "metadata": {},
   "outputs": [
    {
     "name": "stdin",
     "output_type": "stream",
     "text": [
      "Enter a sentence:  The quick brown fox jumps over the lazy dog\n"
     ]
    },
    {
     "name": "stdout",
     "output_type": "stream",
     "text": [
      "True\n"
     ]
    }
   ],
   "source": [
    "# ----------------------------------------------------------\n",
    "# Q10: Pangram check\n",
    "# Example Input: The quick brown fox jumps over the lazy dog\n",
    "# Output: True\n",
    "# ----------------------------------------------------------\n",
    "sentence = input(\"Enter a sentence: \").lower()\n",
    "alphabet = set(\"abcdefghijklmnopqrstuvwxyz\")\n",
    "print(set(sentence) >= alphabet)"
   ]
  },
  {
   "cell_type": "code",
   "execution_count": 19,
   "id": "713810b7-c05d-4105-83b7-07c3098f9c78",
   "metadata": {},
   "outputs": [
    {
     "name": "stdin",
     "output_type": "stream",
     "text": [
      "Enter a sentence:  The quick brown fox jumps over the lazy dog\n"
     ]
    },
    {
     "name": "stdout",
     "output_type": "stream",
     "text": [
      "quick\n"
     ]
    }
   ],
   "source": [
    "# ----------------------------------------------------------\n",
    "# Q11: Find longest word\n",
    "# Example Input: The quick brown fox jumps over the lazy dog\n",
    "# Output: quick\n",
    "# ----------------------------------------------------------\n",
    "words = input(\"Enter a sentence: \").split()\n",
    "longest = max(words, key=len)\n",
    "print(longest)"
   ]
  },
  {
   "cell_type": "code",
   "execution_count": null,
   "id": "87d0036b-b21b-47bf-9ddf-124dee40e765",
   "metadata": {},
   "outputs": [],
   "source": []
  }
 ],
 "metadata": {
  "kernelspec": {
   "display_name": "Python 3 (ipykernel)",
   "language": "python",
   "name": "python3"
  },
  "language_info": {
   "codemirror_mode": {
    "name": "ipython",
    "version": 3
   },
   "file_extension": ".py",
   "mimetype": "text/x-python",
   "name": "python",
   "nbconvert_exporter": "python",
   "pygments_lexer": "ipython3",
   "version": "3.13.5"
  }
 },
 "nbformat": 4,
 "nbformat_minor": 5
}
