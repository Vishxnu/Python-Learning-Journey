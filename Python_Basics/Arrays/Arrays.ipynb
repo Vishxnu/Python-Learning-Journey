{
 "cells": [
  {
   "cell_type": "code",
   "execution_count": 1,
   "id": "7a9d2d10-8fff-4b74-91d4-44ccd9916257",
   "metadata": {},
   "outputs": [],
   "source": [
    "                                        # ==========================================================\n",
    "                                        # 🐍 The Legend of Python - Day 5 Solutions\n",
    "                                        # Arrays\n",
    "                                        # =========================================================="
   ]
  },
  {
   "cell_type": "code",
   "execution_count": 2,
   "id": "6eab5e61-bf91-4528-81bd-2cce6fe2ad6a",
   "metadata": {},
   "outputs": [],
   "source": [
    "from array import array"
   ]
  },
  {
   "cell_type": "code",
   "execution_count": 3,
   "id": "f7cf1a9b-1f87-462e-aa54-5a8233891401",
   "metadata": {},
   "outputs": [
    {
     "name": "stdout",
     "output_type": "stream",
     "text": [
      "Answer: c\n"
     ]
    }
   ],
   "source": [
    "# ----------------------------------------------------------\n",
    "# Q1: Array addition\n",
    "# arr1 = array('i', [2, 3, 4])\n",
    "# arr2 = array('f', [3.0, 4.0, 5.0])\n",
    "# What is arr1 + arr2 ?\n",
    "# Options:\n",
    "# a) array('f', [5.0, 6.0, 9.0])\n",
    "# b) array('i', [5, 6, 9])\n",
    "# c) TypeError\n",
    "# d) None of the above\n",
    "# Answer: c (TypeError because arrays must be same type)\n",
    "# ----------------------------------------------------------\n",
    "arr1 = array('i', [2, 3, 4])\n",
    "arr2 = array('f', [3.0, 4.0, 5.0])\n",
    "print(\"Answer: c\")   # Trying arr1+arr2 actually gives TypeError"
   ]
  },
  {
   "cell_type": "code",
   "execution_count": 6,
   "id": "4663633e-f9e9-43b6-89d0-77b2cab5ea82",
   "metadata": {},
   "outputs": [
    {
     "name": "stdin",
     "output_type": "stream",
     "text": [
      "Enter range m n:  0 9\n",
      "Enter number to check:  3\n"
     ]
    },
    {
     "name": "stdout",
     "output_type": "stream",
     "text": [
      "array('i', [0, 1, 2, 3, 4, 5, 6, 7, 8, 0, 1, 2, 0, 1, 2, 0, 1, 2])\n"
     ]
    }
   ],
   "source": [
    "# ----------------------------------------------------------\n",
    "# Q2: Check if x is in array, modify if true\n",
    "# Example Input:\n",
    "# 0 9\n",
    "# 3\n",
    "# Output:\n",
    "# array('i', [0,1,2,3,4,5,6,7,8,0,1,2,0,1,2,0,1,2])\n",
    "# ----------------------------------------------------------\n",
    "m, n = map(int, input(\"Enter range m n: \").split())\n",
    "x = int(input(\"Enter number to check: \"))\n",
    "\n",
    "arr = array('i', [i for i in range(m, n)])\n",
    "if x in arr:\n",
    "    sliced = arr[:3]\n",
    "    arr = arr + sliced * 3\n",
    "    print(arr)\n",
    "else:\n",
    "    print(\"is not in the array\")"
   ]
  },
  {
   "cell_type": "code",
   "execution_count": 7,
   "id": "f82650cd-acd7-4b6e-bc05-ac0b480e2154",
   "metadata": {},
   "outputs": [
    {
     "name": "stdout",
     "output_type": "stream",
     "text": [
      "3rd student marks: 78\n",
      "Top 3 students: [92, 90, 88]\n",
      "Average marks: 90.0\n",
      "Updated array: array('i', [85, 90, 92, 88, 95])\n"
     ]
    }
   ],
   "source": [
    "# ----------------------------------------------------------\n",
    "# Q3: Student marks operations\n",
    "# Steps:\n",
    "# 1. Create array: [85,90,78,92,88]\n",
    "# 2. Access 3rd student (index=2)\n",
    "# 3. Slice top 3 students in descending order\n",
    "# 4. Append new marks=95\n",
    "# 5. Remove lowest marks\n",
    "# 6. Print average of remaining\n",
    "# 7. Print updated array\n",
    "# ----------------------------------------------------------\n",
    "student_marks = array('i', [85, 90, 78, 92, 88])\n",
    "\n",
    "# 2. Access 3rd student\n",
    "print(\"3rd student marks:\", student_marks[2])\n",
    "\n",
    "# 3. Top 3 students (sorted descending)\n",
    "top3 = sorted(student_marks, reverse=True)[:3]\n",
    "print(\"Top 3 students:\", top3)\n",
    "\n",
    "# 4. Append new student\n",
    "student_marks.append(95)\n",
    "\n",
    "# 5. Remove lowest marks\n",
    "lowest = min(student_marks)\n",
    "student_marks.pop(student_marks.index(lowest))\n",
    "\n",
    "# 6. Average\n",
    "avg = sum(student_marks) / len(student_marks)\n",
    "print(\"Average marks:\", avg)\n",
    "\n",
    "# 7. Updated array\n",
    "print(\"Updated array:\", student_marks)"
   ]
  },
  {
   "cell_type": "code",
   "execution_count": null,
   "id": "997e937b-5e2b-4519-a27a-60e171a984a9",
   "metadata": {},
   "outputs": [],
   "source": []
  }
 ],
 "metadata": {
  "kernelspec": {
   "display_name": "Python 3 (ipykernel)",
   "language": "python",
   "name": "python3"
  },
  "language_info": {
   "codemirror_mode": {
    "name": "ipython",
    "version": 3
   },
   "file_extension": ".py",
   "mimetype": "text/x-python",
   "name": "python",
   "nbconvert_exporter": "python",
   "pygments_lexer": "ipython3",
   "version": "3.13.5"
  }
 },
 "nbformat": 4,
 "nbformat_minor": 5
}
