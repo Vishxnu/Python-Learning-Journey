{
 "cells": [
  {
   "cell_type": "code",
   "execution_count": 1,
   "id": "9968bcf3-d58c-421c-be4c-11a7ecf31806",
   "metadata": {},
   "outputs": [],
   "source": [
    "                                        # ==========================================================\n",
    "                                        # 🐍 The Legend of Python - Day 6 Solutions\n",
    "                                        # Lists\n",
    "                                        # =========================================================="
   ]
  },
  {
   "cell_type": "code",
   "execution_count": 2,
   "id": "5ea1e559-eb30-45f5-b34e-83430031a18f",
   "metadata": {},
   "outputs": [],
   "source": [
    "from array import array"
   ]
  },
  {
   "cell_type": "code",
   "execution_count": 3,
   "id": "0ba3c1a4-0e19-4b20-aa89-fce915c90207",
   "metadata": {},
   "outputs": [
    {
     "name": "stdin",
     "output_type": "stream",
     "text": [
      "Enter list of integers:  1 2 3 4 5 6\n",
      "Enter number to check:  7\n"
     ]
    },
    {
     "name": "stdout",
     "output_type": "stream",
     "text": [
      "False\n"
     ]
    }
   ],
   "source": [
    "# ----------------------------------------------------------\n",
    "# Q1: Check if x is present in a list\n",
    "# Example Input:\n",
    "# 1 2 3 4 5 6\n",
    "# 7\n",
    "# Example Output: False\n",
    "# ----------------------------------------------------------\n",
    "lst = list(map(int, input(\"Enter list of integers: \").split()))\n",
    "x = int(input(\"Enter number to check: \"))\n",
    "print(x in lst)"
   ]
  },
  {
   "cell_type": "code",
   "execution_count": 4,
   "id": "590a59c8-7902-4182-b9a0-b7d1cd463321",
   "metadata": {},
   "outputs": [
    {
     "name": "stdin",
     "output_type": "stream",
     "text": [
      "Enter list of numbers:  1 -5 6 8 -9\n"
     ]
    },
    {
     "name": "stdout",
     "output_type": "stream",
     "text": [
      "array('i', [1, 5, 6, 8, 9])\n"
     ]
    }
   ],
   "source": [
    "# ----------------------------------------------------------\n",
    "# Q2: Replace negative numbers with positive\n",
    "# Example Input: 1 -5 6 8 -9\n",
    "# Output: array('i', [1, 5, 6, 8, 9])\n",
    "# ----------------------------------------------------------\n",
    "nums = list(map(int, input(\"Enter list of numbers: \").split()))\n",
    "arr = array('i', [abs(num) for num in nums])\n",
    "print(arr)"
   ]
  },
  {
   "cell_type": "code",
   "execution_count": 8,
   "id": "8f5de175-7afc-4825-bf0f-e7f479159124",
   "metadata": {},
   "outputs": [
    {
     "name": "stdin",
     "output_type": "stream",
     "text": [
      "Enter number of operations:  6\n",
      " append 6\n",
      " insert 1 5\n",
      " append 8\n",
      " pop\n",
      " remove 6\n",
      " reverse\n"
     ]
    },
    {
     "name": "stdout",
     "output_type": "stream",
     "text": [
      "array('i', [5])\n"
     ]
    }
   ],
   "source": [
    "# ----------------------------------------------------------\n",
    "# Q3: Perform array operations\n",
    "# Example Input:\n",
    "# 6\n",
    "# append 6\n",
    "# insert 1 5\n",
    "# append 8\n",
    "# pop\n",
    "# remove 6\n",
    "# reverse\n",
    "# Output: array('i', [5])\n",
    "# ----------------------------------------------------------\n",
    "n = int(input(\"Enter number of operations: \"))\n",
    "arr = array('i', [])\n",
    "for n in range(n):\n",
    "    op = input().split()\n",
    "    if op[0] == \"append\":\n",
    "        arr.append(int(op[1]))\n",
    "    elif op[0] == \"insert\":\n",
    "        arr.insert(int(op[1]), int(op[2]))\n",
    "    elif op[0] == \"remove\":\n",
    "        arr.remove(int(op[1]))\n",
    "    elif op[0] == \"pop\":\n",
    "        arr.pop()\n",
    "    elif op[0] == \"reverse\":\n",
    "        arr = array('i', arr[::-1])\n",
    "print(arr)"
   ]
  },
  {
   "cell_type": "code",
   "execution_count": 9,
   "id": "ea15713e-8573-475b-87f1-e93ea802dc3e",
   "metadata": {},
   "outputs": [
    {
     "name": "stdin",
     "output_type": "stream",
     "text": [
      "Enter heterogeneous list:  ['a','b','c',1,2,3,True,False,1+6j,1.2]\n"
     ]
    },
    {
     "name": "stdout",
     "output_type": "stream",
     "text": [
      "['a', 'b', 'c', 2, 4, 6, True, False, (2+12j), 2.4]\n"
     ]
    }
   ],
   "source": [
    "# ----------------------------------------------------------\n",
    "# Q4: Double int/float/complex numbers in a heterogeneous list\n",
    "# Example Input: ['a','b','c',1,2,3,True,False,1+6j,1.2]\n",
    "# Output: ['a','b','c',2,4,6,True,False,(2+12j),2.4]\n",
    "# ----------------------------------------------------------\n",
    "x = eval(input(\"Enter heterogeneous list: \"))\n",
    "for i in range(len(x)):\n",
    "    if isinstance(x[i], (int, float, complex)) and not isinstance(x[i], bool):\n",
    "        x[i] = x[i] * 2\n",
    "print(x)"
   ]
  },
  {
   "cell_type": "code",
   "execution_count": 10,
   "id": "be6107d0-834b-4db8-b826-2eaf7a6fa670",
   "metadata": {},
   "outputs": [
    {
     "name": "stdin",
     "output_type": "stream",
     "text": [
      "Enter number of operations:  8\n",
      " append 2\n",
      " insert 0 1\n",
      " extend 3 4\n",
      " extend 5\n",
      " pop\n",
      " remove 4\n",
      " reverse\n",
      " sort\n"
     ]
    },
    {
     "name": "stdout",
     "output_type": "stream",
     "text": [
      "[1, 2, 3]\n"
     ]
    }
   ],
   "source": [
    "# ----------------------------------------------------------\n",
    "# Q5: Perform list operations\n",
    "# Example Input:\n",
    "# 8\n",
    "# append 2\n",
    "# insert 0 1\n",
    "# extend 3 4\n",
    "# extend 5\n",
    "# pop\n",
    "# remove 4\n",
    "# reverse\n",
    "# sort\n",
    "# Output: [1,2,3]\n",
    "# ----------------------------------------------------------\n",
    "n = int(input(\"Enter number of operations: \"))\n",
    "lst = []\n",
    "for _ in range(n):\n",
    "    op = input().split()\n",
    "    if op[0] == \"append\":\n",
    "        lst.append(int(op[1]))\n",
    "    elif op[0] == \"insert\":\n",
    "        lst.insert(int(op[1]), int(op[2]))\n",
    "    elif op[0] == \"extend\":\n",
    "        lst.extend(map(int, op[1:]))\n",
    "    elif op[0] == \"remove\":\n",
    "        lst.remove(int(op[1]))\n",
    "    elif op[0] == \"pop\":\n",
    "        lst.pop()\n",
    "    elif op[0] == \"reverse\":\n",
    "        lst.reverse()\n",
    "    elif op[0] == \"sort\":\n",
    "        lst.sort()\n",
    "print(lst)"
   ]
  },
  {
   "cell_type": "code",
   "execution_count": 11,
   "id": "0a1f83ac-2d15-4107-8ed8-7a3cc67a0c6b",
   "metadata": {},
   "outputs": [
    {
     "name": "stdin",
     "output_type": "stream",
     "text": [
      "Enter list of numbers:  1 2 3 4 5 6\n",
      "Enter number to check:  7\n"
     ]
    },
    {
     "name": "stdout",
     "output_type": "stream",
     "text": [
      "125\n"
     ]
    }
   ],
   "source": [
    "# ----------------------------------------------------------\n",
    "# Q6: Check x in list, else cube second last\n",
    "# Example Input:\n",
    "# 1 2 3 4 5 6\n",
    "# 7\n",
    "# Output: 125\n",
    "# ----------------------------------------------------------\n",
    "lst = list(map(int, input(\"Enter list of numbers: \").split()))\n",
    "x = int(input(\"Enter number to check: \"))\n",
    "if x in lst:\n",
    "    print(x ** 4)\n",
    "else:\n",
    "    print(lst[-2] ** 3)"
   ]
  },
  {
   "cell_type": "code",
   "execution_count": 12,
   "id": "af7c2760-c3a9-40e9-b63c-81f726ee13e6",
   "metadata": {},
   "outputs": [
    {
     "name": "stdout",
     "output_type": "stream",
     "text": [
      "Students > 20 years: ['Sita', 'Amit']\n",
      "Top 2 students: [['Neha', 20, [95, 90, 93]], ['Sita', 22, [88, 92, 85]]]\n"
     ]
    }
   ],
   "source": [
    "# ----------------------------------------------------------\n",
    "# Q7: Student information\n",
    "# Steps:\n",
    "# - Create list of (name, age, marks)\n",
    "# - Print names > 20 years\n",
    "# - Append & insert new students\n",
    "# - Remove student with lowest average\n",
    "# - Print top 2 students\n",
    "# ----------------------------------------------------------\n",
    "student_info = [\n",
    "    [\"Ravi\", 19, [80, 85, 90]],\n",
    "    [\"Sita\", 22, [88, 92, 85]],\n",
    "    [\"Amit\", 21, [70, 65, 75]]\n",
    "]\n",
    "\n",
    "# Extract names > 20\n",
    "above_20 = [s[0] for s in student_info if s[1] > 20]\n",
    "print(\"Students > 20 years:\", above_20)\n",
    "\n",
    "# Add new student\n",
    "student_info.append([\"Neha\", 20, [95, 90, 93]])\n",
    "\n",
    "# Insert at second position\n",
    "student_info.insert(1, [\"Kiran\", 23, [82, 80, 84]])\n",
    "\n",
    "# Remove lowest average\n",
    "lowest = min(student_info, key=lambda s: sum(s[2]) / len(s[2]))\n",
    "student_info.remove(lowest)\n",
    "\n",
    "# Top 2 students\n",
    "sorted_students = sorted(student_info, key=lambda s: sum(s[2]) / len(s[2]), reverse=True)\n",
    "print(\"Top 2 students:\", sorted_students[:2])\n"
   ]
  },
  {
   "cell_type": "code",
   "execution_count": 13,
   "id": "0c00e0b6-ab77-4eb2-9302-16b7fcbe2d10",
   "metadata": {},
   "outputs": [
    {
     "name": "stdin",
     "output_type": "stream",
     "text": [
      "Enter number for pattern:  7\n"
     ]
    },
    {
     "name": "stdout",
     "output_type": "stream",
     "text": [
      "* \n",
      "* * \n",
      "* * * \n",
      "* * * * \n",
      "* * * * * \n",
      "* * * * * * \n",
      "* * * * * * * \n"
     ]
    }
   ],
   "source": [
    "# ----------------------------------------------------------\n",
    "# Q8: Pattern\n",
    "# *\n",
    "# * *\n",
    "# * * *\n",
    "# * * * *\n",
    "# ----------------------------------------------------------\n",
    "n = int(input(\"Enter number for pattern: \"))\n",
    "for i in range(1, n + 1):\n",
    "    print(\"* \" * i)\n"
   ]
  },
  {
   "cell_type": "code",
   "execution_count": 20,
   "id": "2c8e1a7b-bc8d-4b48-9fad-79f46ec4eb2c",
   "metadata": {},
   "outputs": [
    {
     "name": "stdin",
     "output_type": "stream",
     "text": [
      "Enter number for inverted pattern:  5\n"
     ]
    },
    {
     "name": "stdout",
     "output_type": "stream",
     "text": [
      "* * * * * \n",
      " * * * * \n",
      "  * * * \n",
      "   * * \n",
      "    * \n"
     ]
    }
   ],
   "source": [
    "# ----------------------------------------------------------\n",
    "# Q9: Inverted triangle pattern\n",
    "#  * * * * \n",
    "#   * * * \n",
    "#    * * \n",
    "#     *\n",
    "# ----------------------------------------------------------\n",
    "n = int(input(\"Enter number for inverted pattern: \"))\n",
    "for i in range(n, 0, -1):\n",
    "    spaces = \" \" * (n - i)\n",
    "    stars = \"* \" * i\n",
    "    print(spaces + stars)"
   ]
  },
  {
   "cell_type": "code",
   "execution_count": 22,
   "id": "80fa5254-a68a-4a2d-8e3a-db799700ac36",
   "metadata": {},
   "outputs": [
    {
     "name": "stdin",
     "output_type": "stream",
     "text": [
      "Enter number:  6\n",
      "Enter symbol:  *\n"
     ]
    },
    {
     "name": "stdout",
     "output_type": "stream",
     "text": [
      "     *\n",
      "    ***\n",
      "   *****\n",
      "  *******\n",
      " *********\n",
      "***********\n",
      " *********\n",
      "  *******\n",
      "   *****\n",
      "    ***\n",
      "     *\n"
     ]
    }
   ],
   "source": [
    "# ----------------------------------------------------------\n",
    "# Q10: Diamond-like pattern\n",
    "# Example Input: 6\n",
    "# ----------------------------------------------------------\n",
    "n = int(input(\"Enter number: \"))\n",
    "symbol = input(\"Enter symbol: \")\n",
    "for i in range(n):\n",
    "    print(\" \" * (n - i - 1) + symbol * (2 * i + 1))\n",
    "for i in range(n - 2, -1, -1):\n",
    "    print(\" \" * (n - i - 1) + symbol * (2 * i + 1))"
   ]
  },
  {
   "cell_type": "code",
   "execution_count": null,
   "id": "ae509ee8-6892-4e12-9db9-1ef1edf1b3b6",
   "metadata": {},
   "outputs": [],
   "source": []
  }
 ],
 "metadata": {
  "kernelspec": {
   "display_name": "Python 3 (ipykernel)",
   "language": "python",
   "name": "python3"
  },
  "language_info": {
   "codemirror_mode": {
    "name": "ipython",
    "version": 3
   },
   "file_extension": ".py",
   "mimetype": "text/x-python",
   "name": "python",
   "nbconvert_exporter": "python",
   "pygments_lexer": "ipython3",
   "version": "3.13.5"
  }
 },
 "nbformat": 4,
 "nbformat_minor": 5
}
