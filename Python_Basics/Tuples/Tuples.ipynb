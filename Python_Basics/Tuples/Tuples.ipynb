{
 "cells": [
  {
   "cell_type": "code",
   "execution_count": 1,
   "id": "3ea4baee-ae3d-4523-bf3f-f24afd280bc9",
   "metadata": {},
   "outputs": [],
   "source": [
    "                                        # ==========================================================\n",
    "                                        # 🐍 The Legend of Python - Day 7 Solutions\n",
    "                                        # Tuples\n",
    "                                        # =========================================================="
   ]
  },
  {
   "cell_type": "code",
   "execution_count": 2,
   "id": "f238bb7c-881e-46bd-bf83-91bfb64417ba",
   "metadata": {},
   "outputs": [
    {
     "name": "stdin",
     "output_type": "stream",
     "text": [
      "Enter space-separated integers:  1 2 3 4 5 6\n"
     ]
    },
    {
     "name": "stdout",
     "output_type": "stream",
     "text": [
      "tuple a: (1, 2, 3, 4, 5, 6)\n",
      "length of a: 6\n",
      "Data type of a: <class 'tuple'>\n"
     ]
    }
   ],
   "source": [
    "# ----------------------------------------------------------\n",
    "# Q1: Create a tuple, print tuple, length, and datatype\n",
    "# Example Input: 1 2 3 4 5 6\n",
    "# Output:\n",
    "# tuple a: (1, 2, 3, 4, 5, 6)\n",
    "# length of a: 6\n",
    "# Data type of a: <class 'tuple'>\n",
    "# ----------------------------------------------------------\n",
    "a = tuple(map(int, input(\"Enter space-separated integers: \").split()))\n",
    "print(\"tuple a:\", a)\n",
    "print(\"length of a:\", len(a))\n",
    "print(\"Data type of a:\", type(a))"
   ]
  },
  {
   "cell_type": "code",
   "execution_count": 3,
   "id": "b9d31bb5-6629-4b8c-a39a-1a4b8d3fedb9",
   "metadata": {},
   "outputs": [
    {
     "name": "stdin",
     "output_type": "stream",
     "text": [
      " 149 125 173\n",
      " 210 145 188\n",
      " 254 200 216\n"
     ]
    },
    {
     "name": "stdout",
     "output_type": "stream",
     "text": [
      "[149, 210, 254]\n",
      "[173, 188, 216]\n",
      "[125, 145, 200]\n"
     ]
    }
   ],
   "source": [
    "# ----------------------------------------------------------\n",
    "# Q2: Create tuples from RGB input and append into lists\n",
    "# Example Input:\n",
    "# 149 125 173\n",
    "# 210 145 188\n",
    "# 254 200 216\n",
    "# Output:\n",
    "# [149, 210, 254]\n",
    "# [173, 188, 216]\n",
    "# [125, 145, 200]\n",
    "# ----------------------------------------------------------\n",
    "R, G, B = [], [], []\n",
    "for _ in range(3):\n",
    "    r, g, b = map(int, input().split())\n",
    "    tup = (r, g, b)\n",
    "    R.append(tup[0])\n",
    "    G.append(tup[2])\n",
    "    B.append(tup[1])\n",
    "print(R)\n",
    "print(G)\n",
    "print(B)"
   ]
  },
  {
   "cell_type": "code",
   "execution_count": 4,
   "id": "e86218ae-9161-4397-8925-68d84b830f45",
   "metadata": {},
   "outputs": [
    {
     "name": "stdout",
     "output_type": "stream",
     "text": [
      "26000000\n"
     ]
    }
   ],
   "source": [
    "# ----------------------------------------------------------\n",
    "# Q3: Check if \"Pune\" in city list and print 2nd city population\n",
    "# Example Input:\n",
    "# [('Mumbai', 25000000), ('Delhi', 26000000), ('Pune', 10000000)]\n",
    "# Output: 26000000\n",
    "# ----------------------------------------------------------\n",
    "cities = [('Mumbai', 25000000), ('Delhi', 26000000),\n",
    "          ('Pune', 10000000), ('Bengaluru', 9000000),\n",
    "          ('Chennai', 10000000)]\n",
    "if any(city[0] == \"Pune\" for city in cities):\n",
    "    print(cities[1][1])   # population of 2nd city"
   ]
  },
  {
   "cell_type": "code",
   "execution_count": 6,
   "id": "59a6f0c5-ab66-4b4c-b96c-bee579322efe",
   "metadata": {},
   "outputs": [
    {
     "name": "stdin",
     "output_type": "stream",
     "text": [
      " 1 2 3\n",
      " 4 5 \n",
      " 6 7 8 9\n"
     ]
    },
    {
     "name": "stdout",
     "output_type": "stream",
     "text": [
      "(1, 2, 3)\n",
      "(4, 5)\n",
      "(6, 7, 8, 9)\n",
      "(1, 2, 3, 4, 5, 6, 7, 8, 9)\n"
     ]
    }
   ],
   "source": [
    "# ----------------------------------------------------------\n",
    "# Q4: Concatenate three tuples from input\n",
    "# Example Input:\n",
    "# 1 2 3\n",
    "# 4 5\n",
    "# 6 7 8 9\n",
    "# Output:\n",
    "# (1, 2, 3)\n",
    "# (4, 5)\n",
    "# (6, 7, 8, 9)\n",
    "# (1, 2, 3, 4, 5, 6, 7, 8, 9)\n",
    "# ----------------------------------------------------------\n",
    "t1 = tuple(map(int, input().split()))\n",
    "t2 = tuple(map(int, input().split()))\n",
    "t3 = tuple(map(int, input().split()))\n",
    "print(t1)\n",
    "print(t2)\n",
    "print(t3)\n",
    "print(t1 + t2 + t3)"
   ]
  },
  {
   "cell_type": "code",
   "execution_count": 7,
   "id": "61480f2a-8849-47df-a876-5e24d391432b",
   "metadata": {},
   "outputs": [
    {
     "name": "stdout",
     "output_type": "stream",
     "text": [
      "First Destination: Paris - France\n",
      "Last 3 destinations: (('New York', 'USA', 4.5), ('Rome', 'Italy', 4.6), ('Sydney', 'Australia', 4.4))\n",
      "Total destinations: 5\n",
      "Highest rated: ('Tokyo', 'Japan', 4.8)\n",
      "Lowest rated: ('Sydney', 'Australia', 4.4)\n"
     ]
    }
   ],
   "source": [
    "# ----------------------------------------------------------\n",
    "# Q5: Travel destinations tuple operations\n",
    "# Example: travel_destinations = (\n",
    "#   (\"Paris\", \"France\", 4.7),\n",
    "#   (\"Tokyo\", \"Japan\", 4.8),\n",
    "#   (\"NYC\", \"USA\", 4.5),\n",
    "#   (\"Rome\", \"Italy\", 4.6),\n",
    "#   (\"Sydney\", \"Australia\", 4.4)\n",
    "# )\n",
    "# ----------------------------------------------------------\n",
    "travel_destinations = (\n",
    "    (\"Paris\", \"France\", 4.7),\n",
    "    (\"Tokyo\", \"Japan\", 4.8),\n",
    "    (\"New York\", \"USA\", 4.5),\n",
    "    (\"Rome\", \"Italy\", 4.6),\n",
    "    (\"Sydney\", \"Australia\", 4.4)\n",
    ")\n",
    "\n",
    "# 1st destination\n",
    "print(\"First Destination:\", travel_destinations[0][0], \"-\", travel_destinations[0][1])\n",
    "\n",
    "# Last 3 destinations\n",
    "print(\"Last 3 destinations:\", travel_destinations[-3:])\n",
    "\n",
    "# Total count\n",
    "print(\"Total destinations:\", len(travel_destinations))\n",
    "\n",
    "# Highest & lowest rated\n",
    "highest = max(travel_destinations, key=lambda x: x[2])\n",
    "lowest = min(travel_destinations, key=lambda x: x[2])\n",
    "print(\"Highest rated:\", highest)\n",
    "print(\"Lowest rated:\", lowest)"
   ]
  },
  {
   "cell_type": "code",
   "execution_count": null,
   "id": "c1cacc7e-4af3-4659-a6d5-9450097447e7",
   "metadata": {},
   "outputs": [],
   "source": []
  }
 ],
 "metadata": {
  "kernelspec": {
   "display_name": "Python 3 (ipykernel)",
   "language": "python",
   "name": "python3"
  },
  "language_info": {
   "codemirror_mode": {
    "name": "ipython",
    "version": 3
   },
   "file_extension": ".py",
   "mimetype": "text/x-python",
   "name": "python",
   "nbconvert_exporter": "python",
   "pygments_lexer": "ipython3",
   "version": "3.13.5"
  }
 },
 "nbformat": 4,
 "nbformat_minor": 5
}
