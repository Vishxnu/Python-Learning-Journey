{
 "cells": [
  {
   "cell_type": "code",
   "execution_count": 1,
   "id": "8d9a828a-003b-467c-b44a-85f1c5572288",
   "metadata": {},
   "outputs": [],
   "source": [
    "                                        # ==========================================================\n",
    "                                        # 🐍 The Legend of Python - Day 2 Solutions\n",
    "                                        # Conditional Statements, Loops & Patterns\n",
    "                                        # ==========================================================\n"
   ]
  },
  {
   "cell_type": "code",
   "execution_count": 2,
   "id": "f32902e5-133d-4890-a47d-3c050b9931df",
   "metadata": {},
   "outputs": [
    {
     "name": "stdin",
     "output_type": "stream",
     "text": [
      "Enter shape letter (S/R/T/C):  S\n"
     ]
    },
    {
     "name": "stdout",
     "output_type": "stream",
     "text": [
      "side^2\n"
     ]
    }
   ],
   "source": [
    "# ----------------------------------------------------------\n",
    "# Q1: Display formula for selected shape\n",
    "# Input: First letter (S, R, T, C)\n",
    "# Output: Corresponding area formula\n",
    "# Example Input: S\n",
    "# Example Output: side^2\n",
    "# ----------------------------------------------------------\n",
    "shape = input(\"Enter shape letter (S/R/T/C): \")\n",
    "if shape == \"S\":\n",
    "    print(\"side^2\")\n",
    "elif shape == \"R\":\n",
    "    print(\"lengthXbreadth\")\n",
    "elif shape == \"T\":\n",
    "    print(\"0.5XbaseXheight\")\n",
    "elif shape == \"C\":\n",
    "    print(\"3.14Xradius^2\")\n",
    "else:\n",
    "    print(\"Enter valid alphabet\")"
   ]
  },
  {
   "cell_type": "code",
   "execution_count": 3,
   "id": "58a37fd8-db30-4197-b664-e1348d2a5ca7",
   "metadata": {},
   "outputs": [
    {
     "name": "stdin",
     "output_type": "stream",
     "text": [
      "Enter month number (1-12):  2\n"
     ]
    },
    {
     "name": "stdout",
     "output_type": "stream",
     "text": [
      "Shimla Manali Ooty\n"
     ]
    }
   ],
   "source": [
    "# ----------------------------------------------------------\n",
    "# Q2: Suggest holiday destination based on month\n",
    "# Example Input: 2\n",
    "# Example Output: Shimla Manali Ooty\n",
    "# ----------------------------------------------------------\n",
    "month = int(input(\"Enter month number (1-12): \"))\n",
    "if 2 <= month <= 5:\n",
    "    print(\"Shimla Manali Ooty\")\n",
    "elif 6 <= month <= 9:\n",
    "    print(\"Lonavala Goa Kodaikanal\")\n",
    "elif month == 1 or month == 10 or month == 11 or month == 12:\n",
    "    print(\"Munnar Kullu Manali\")\n",
    "else:\n",
    "    print(\"Enter valid number\")"
   ]
  },
  {
   "cell_type": "code",
   "execution_count": 4,
   "id": "faa807cd-b48a-4cc4-8888-6bccc7c1c508",
   "metadata": {},
   "outputs": [
    {
     "name": "stdin",
     "output_type": "stream",
     "text": [
      "Enter annual salary:  600000\n"
     ]
    },
    {
     "name": "stdout",
     "output_type": "stream",
     "text": [
      "32500\n"
     ]
    }
   ],
   "source": [
    "# ----------------------------------------------------------\n",
    "# Q3: Income Tax calculation (simple slab example)\n",
    "# Example Input: 600000\n",
    "# Example Output: 22500\n",
    "# ----------------------------------------------------------\n",
    "income = int(input(\"Enter annual salary: \"))\n",
    "tax = 0\n",
    "if income <= 250000:\n",
    "    tax = 0\n",
    "elif income <= 500000:\n",
    "    tax = (income - 250000) * 0.05\n",
    "elif income <= 1000000:\n",
    "    tax = (250000 * 0.05) + (income - 500000) * 0.2\n",
    "else:\n",
    "    tax = (250000 * 0.05) + (500000 * 0.2) + (income - 1000000) * 0.3\n",
    "print(int(tax))"
   ]
  },
  {
   "cell_type": "code",
   "execution_count": 5,
   "id": "fbbb3e9f-179d-4005-8373-8c3e3517b2ee",
   "metadata": {},
   "outputs": [
    {
     "name": "stdin",
     "output_type": "stream",
     "text": [
      "Enter start year:  2004\n",
      "Enter end year:  2030\n"
     ]
    },
    {
     "name": "stdout",
     "output_type": "stream",
     "text": [
      "2004\n",
      "2008\n",
      "2012\n",
      "2016\n",
      "2020\n",
      "2024\n",
      "2028\n"
     ]
    }
   ],
   "source": [
    "# ----------------------------------------------------------\n",
    "# Q4: Print leap years between given range\n",
    "# Example Input:\n",
    "# 2004\n",
    "# 2030\n",
    "# Example Output:\n",
    "# 2004 2008 2012 2016 2020 2024 2028\n",
    "# ----------------------------------------------------------\n",
    "start = int(input(\"Enter start year: \"))\n",
    "end = int(input(\"Enter end year: \"))\n",
    "for year in range(start, end + 1):\n",
    "    if (year % 400 == 0) or (year % 4 == 0 and year % 100 != 0):\n",
    "        print(year)\n"
   ]
  },
  {
   "cell_type": "code",
   "execution_count": 6,
   "id": "d865bb50-997f-480b-ab42-dffb21b2a5d5",
   "metadata": {},
   "outputs": [
    {
     "name": "stdin",
     "output_type": "stream",
     "text": [
      "Enter operation (A/S/M/D) or Stop to quit:  A\n",
      "Enter first number:  5\n",
      "Enter second number:  3\n"
     ]
    },
    {
     "name": "stdout",
     "output_type": "stream",
     "text": [
      "8\n"
     ]
    },
    {
     "name": "stdin",
     "output_type": "stream",
     "text": [
      "Enter operation (A/S/M/D) or Stop to quit:  Stop\n"
     ]
    }
   ],
   "source": [
    "# ----------------------------------------------------------\n",
    "# Q5: Continuous calculator until \"Stop\"\n",
    "# Example Input:\n",
    "# A\n",
    "# 5\n",
    "# 3\n",
    "# Stop\n",
    "# Output: 8\n",
    "# ----------------------------------------------------------\n",
    "while True:\n",
    "    op = input(\"Enter operation (A/S/M/D) or Stop to quit: \")\n",
    "    if op == \"Stop\":\n",
    "        break\n",
    "    num1 = int(input(\"Enter first number: \"))\n",
    "    num2 = int(input(\"Enter second number: \"))\n",
    "    if op == \"A\":\n",
    "        print(num1 + num2)\n",
    "    elif op == \"S\":\n",
    "        print(num1 - num2)\n",
    "    elif op == \"M\":\n",
    "        print(num1 * num2)\n",
    "    elif op == \"D\":\n",
    "        print(num1 / num2)"
   ]
  },
  {
   "cell_type": "code",
   "execution_count": 7,
   "id": "6c18f04c-7023-4118-8111-e02169cb53bb",
   "metadata": {},
   "outputs": [
    {
     "name": "stdin",
     "output_type": "stream",
     "text": [
      "Enter number:  5\n",
      "Enter symbol:  $\n"
     ]
    },
    {
     "name": "stdout",
     "output_type": "stream",
     "text": [
      "$\n",
      "$$\n",
      "$$$\n",
      "$$$$\n",
      "$$$$$\n",
      "$$$$\n",
      "$$$\n",
      "$$\n",
      "$\n"
     ]
    }
   ],
   "source": [
    "# ----------------------------------------------------------\n",
    "# Q6: Pattern (triangle up & down)\n",
    "# Example Input:\n",
    "# 5\n",
    "# $\n",
    "# Output:\n",
    "# $\n",
    "# $$\n",
    "# $$$\n",
    "# $$$$\n",
    "# $$$$$\n",
    "# $$$$\n",
    "# $$$\n",
    "# $$\n",
    "# $\n",
    "# ----------------------------------------------------------\n",
    "n = int(input(\"Enter number: \"))\n",
    "symbol = input(\"Enter symbol: \")\n",
    "for i in range(1, n + 1):\n",
    "    print(symbol * i)\n",
    "for i in range(n - 1, 0, -1):\n",
    "    print(symbol * i)"
   ]
  },
  {
   "cell_type": "code",
   "execution_count": 8,
   "id": "9c612e30-1e3d-4343-a444-fcba6b664678",
   "metadata": {},
   "outputs": [
    {
     "name": "stdin",
     "output_type": "stream",
     "text": [
      "Enter number:  5\n",
      "Enter symbol:  #\n"
     ]
    },
    {
     "name": "stdout",
     "output_type": "stream",
     "text": [
      "    #\n",
      "   ###\n",
      "  #####\n",
      " #######\n",
      "#########\n",
      " #######\n",
      "  #####\n",
      "   ###\n",
      "    #\n"
     ]
    }
   ],
   "source": [
    "# ----------------------------------------------------------\n",
    "# Q7: Diamond-like pattern\n",
    "# Example Input:\n",
    "# 5\n",
    "# #\n",
    "# Output:\n",
    "#     #\n",
    "#    ###\n",
    "#   #####\n",
    "#  #######\n",
    "# #########\n",
    "#  #######\n",
    "#   #####\n",
    "#    ###\n",
    "#     #\n",
    "# ----------------------------------------------------------\n",
    "n = int(input(\"Enter number: \"))\n",
    "symbol = input(\"Enter symbol: \")\n",
    "for i in range(n):\n",
    "    print(\" \" * (n - i - 1) + symbol * (2 * i + 1))\n",
    "for i in range(n - 2, -1, -1):\n",
    "    print(\" \" * (n - i - 1) + symbol * (2 * i + 1))"
   ]
  },
  {
   "cell_type": "code",
   "execution_count": 9,
   "id": "ca69a400-5f3b-48ef-bacf-2c667eb1bce2",
   "metadata": {},
   "outputs": [
    {
     "name": "stdin",
     "output_type": "stream",
     "text": [
      "Enter number of students:  2\n",
      "Enter student name:  Ramesh\n",
      "Enter marks in 5 subjects:  78 85 90 88 92\n"
     ]
    },
    {
     "name": "stdout",
     "output_type": "stream",
     "text": [
      "Name: Ramesh\n",
      "Total: 433\n",
      "Percentage: 86.6\n",
      "Grade: B\n"
     ]
    },
    {
     "name": "stdin",
     "output_type": "stream",
     "text": [
      "Enter student name:  Suresh\n",
      "Enter marks in 5 subjects:  45 55 60 58 62\n"
     ]
    },
    {
     "name": "stdout",
     "output_type": "stream",
     "text": [
      "Name: Suresh\n",
      "Total: 280\n",
      "Percentage: 56.0\n",
      "Grade: F\n"
     ]
    }
   ],
   "source": [
    "# ----------------------------------------------------------\n",
    "# Q8: Student marks, percentage, and grade\n",
    "# Example Input:\n",
    "# 2\n",
    "# Ramesh\n",
    "# 78 85 90 88 92\n",
    "# Suresh\n",
    "# 45 55 60 58 62\n",
    "# ----------------------------------------------------------\n",
    "num_students = int(input(\"Enter number of students: \"))\n",
    "for _ in range(num_students):\n",
    "    name = input(\"Enter student name: \")\n",
    "    marks = list(map(int, input(\"Enter marks in 5 subjects: \").split()))\n",
    "    total = sum(marks)\n",
    "    percentage = total / 5\n",
    "    if percentage >= 90:\n",
    "        grade = \"A\"\n",
    "    elif percentage >= 80:\n",
    "        grade = \"B\"\n",
    "    elif percentage >= 70:\n",
    "        grade = \"C\"\n",
    "    elif percentage >= 60:\n",
    "        grade = \"D\"\n",
    "    else:\n",
    "        grade = \"F\"\n",
    "    print(\"Name:\", name)\n",
    "    print(\"Total:\", total)\n",
    "    print(\"Percentage:\", round(percentage, 2))\n",
    "    print(\"Grade:\", grade)"
   ]
  },
  {
   "cell_type": "code",
   "execution_count": null,
   "id": "d388e4aa-b005-4945-a0a9-8f0677a1af9a",
   "metadata": {},
   "outputs": [],
   "source": []
  }
 ],
 "metadata": {
  "kernelspec": {
   "display_name": "Python 3 (ipykernel)",
   "language": "python",
   "name": "python3"
  },
  "language_info": {
   "codemirror_mode": {
    "name": "ipython",
    "version": 3
   },
   "file_extension": ".py",
   "mimetype": "text/x-python",
   "name": "python",
   "nbconvert_exporter": "python",
   "pygments_lexer": "ipython3",
   "version": "3.13.5"
  }
 },
 "nbformat": 4,
 "nbformat_minor": 5
}
