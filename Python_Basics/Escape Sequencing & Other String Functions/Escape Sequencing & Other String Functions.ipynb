{
 "cells": [
  {
   "cell_type": "code",
   "execution_count": 1,
   "id": "d7f50b71-0330-4884-87a6-65272665892f",
   "metadata": {},
   "outputs": [],
   "source": [
    "                                        # ==========================================================\n",
    "                                        # 🐍 The Legend of Python - Day 4 Solutions\n",
    "                                        # Escape Sequencing & Other String Functions\n",
    "                                        # ==========================================================\n"
   ]
  },
  {
   "cell_type": "code",
   "execution_count": 2,
   "id": "33457447-aae8-4d59-ae10-6a0ded928109",
   "metadata": {},
   "outputs": [
    {
     "name": "stdin",
     "output_type": "stream",
     "text": [
      "Enter a full sentence:     python is a powerful language   \n"
     ]
    },
    {
     "name": "stdout",
     "output_type": "stream",
     "text": [
      "Original sentence:    python is a powerful language   \n",
      "Manipulated sentence: Language Powerful A Is Python\n"
     ]
    }
   ],
   "source": [
    "# ----------------------------------------------------------\n",
    "# Q1: Sentence manipulation with string functions\n",
    "# Steps:\n",
    "# 1. Input a full sentence.\n",
    "# 2. Split into words using split().\n",
    "# 3. Reverse word order using slicing [::-1].\n",
    "# 4. Join words back into a sentence.\n",
    "# 5. Format into title case using title().\n",
    "# 6. Remove leading/trailing spaces using strip().\n",
    "# 7. Print original & manipulated sentences.\n",
    "#\n",
    "# Example Input:\n",
    "#   \"   python is a powerful language   \"\n",
    "#\n",
    "# Example Output:\n",
    "# Original sentence: \"   python is a powerful language   \"\n",
    "# Manipulated sentence: \"Language Powerful A Is Python\"\n",
    "# ----------------------------------------------------------\n",
    "\n",
    "sentence = input(\"Enter a full sentence: \")\n",
    "\n",
    "# Keep original for printing\n",
    "original_sentence = sentence\n",
    "\n",
    "# Step-by-step transformations\n",
    "words = sentence.split()           # split into words\n",
    "reversed_words = words[::-1]       # reverse order\n",
    "new_sentence = \" \".join(reversed_words)  # join back\n",
    "new_sentence = new_sentence.title()      # convert to title case\n",
    "new_sentence = new_sentence.strip()      # remove extra spaces\n",
    "\n",
    "# Print results\n",
    "print(\"Original sentence:\", original_sentence)\n",
    "print(\"Manipulated sentence:\", new_sentence)"
   ]
  },
  {
   "cell_type": "code",
   "execution_count": null,
   "id": "b7b33d88-a1c2-4e46-bded-215704a3221d",
   "metadata": {},
   "outputs": [],
   "source": []
  }
 ],
 "metadata": {
  "kernelspec": {
   "display_name": "Python 3 (ipykernel)",
   "language": "python",
   "name": "python3"
  },
  "language_info": {
   "codemirror_mode": {
    "name": "ipython",
    "version": 3
   },
   "file_extension": ".py",
   "mimetype": "text/x-python",
   "name": "python",
   "nbconvert_exporter": "python",
   "pygments_lexer": "ipython3",
   "version": "3.13.5"
  }
 },
 "nbformat": 4,
 "nbformat_minor": 5
}
