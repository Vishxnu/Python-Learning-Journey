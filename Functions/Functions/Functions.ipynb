{
 "cells": [
  {
   "cell_type": "code",
   "execution_count": 1,
   "id": "d68d63f5-3187-4a4c-90c9-70a937501fb7",
   "metadata": {},
   "outputs": [],
   "source": [
    "                                            # ==========================================================\n",
    "                                            # 🐍 The Legend of Python - Day 10 Solutions\n",
    "                                            # Functions & Basic Problem Solving\n",
    "                                            # =========================================================="
   ]
  },
  {
   "cell_type": "code",
   "execution_count": 2,
   "id": "7566568c-3bd7-4577-8532-ba75e2f23e45",
   "metadata": {},
   "outputs": [],
   "source": [
    "import math"
   ]
  },
  {
   "cell_type": "code",
   "execution_count": 3,
   "id": "46a8b43a-7e78-46fe-89c5-f480a73f9efb",
   "metadata": {},
   "outputs": [
    {
     "name": "stdout",
     "output_type": "stream",
     "text": [
      "Prime check (7): True\n",
      "Prime check (10): False\n"
     ]
    }
   ],
   "source": [
    "# ----------------------------------------------------------\n",
    "# Q1) Write a function that returns True if a number is prime.\n",
    "# Example:\n",
    "# is_prime(7) -> True\n",
    "# is_prime(10) -> False\n",
    "# ----------------------------------------------------------\n",
    "def is_prime(n: int) -> bool:\n",
    "    if n <= 1:\n",
    "        return False\n",
    "    for i in range(2, int(n**0.5) + 1):\n",
    "        if n % i == 0:\n",
    "            return False\n",
    "    return True\n",
    "\n",
    "print(\"Prime check (7):\", is_prime(7))\n",
    "print(\"Prime check (10):\", is_prime(10))"
   ]
  },
  {
   "cell_type": "code",
   "execution_count": 4,
   "id": "2adb5add-99b3-410f-bf6b-18f183842e11",
   "metadata": {},
   "outputs": [
    {
     "name": "stdout",
     "output_type": "stream",
     "text": [
      "Anagram check (listen, silent): True\n",
      "Anagram check (hello, world): False\n"
     ]
    }
   ],
   "source": [
    "# ----------------------------------------------------------\n",
    "# Q2) Write a function that checks if two strings are anagrams.\n",
    "# Example:\n",
    "# are_anagrams(\"listen\", \"silent\") -> True\n",
    "# are_anagrams(\"hello\", \"world\") -> False\n",
    "# ----------------------------------------------------------\n",
    "def are_anagrams(s1: str, s2: str) -> bool:\n",
    "    return sorted(s1.lower()) == sorted(s2.lower())\n",
    "\n",
    "print(\"Anagram check (listen, silent):\", are_anagrams(\"listen\", \"silent\"))\n",
    "print(\"Anagram check (hello, world):\", are_anagrams(\"hello\", \"world\"))"
   ]
  },
  {
   "cell_type": "code",
   "execution_count": 5,
   "id": "ac4b86a5-8b9c-423e-a2e8-32080659b235",
   "metadata": {},
   "outputs": [
    {
     "name": "stdout",
     "output_type": "stream",
     "text": [
      "Grade (85): B\n",
      "Grade (45): F\n"
     ]
    }
   ],
   "source": [
    "# ----------------------------------------------------------\n",
    "# Q3) Write a function that takes marks out of 100 and returns the grade:\n",
    "# A (>=90), B (80-89), C (70-79), D (60-69), F (<60)\n",
    "# Example:\n",
    "# grade(85) -> \"B\"\n",
    "# ----------------------------------------------------------\n",
    "def grade(marks: int) -> str:\n",
    "    if marks >= 90:\n",
    "        return \"A\"\n",
    "    elif marks >= 80:\n",
    "        return \"B\"\n",
    "    elif marks >= 70:\n",
    "        return \"C\"\n",
    "    elif marks >= 60:\n",
    "        return \"D\"\n",
    "    else:\n",
    "        return \"F\"\n",
    "\n",
    "print(\"Grade (85):\", grade(85))\n",
    "print(\"Grade (45):\", grade(45))\n"
   ]
  },
  {
   "cell_type": "code",
   "execution_count": 6,
   "id": "0cdb7270-615e-4786-9ffb-c91ee65b3cad",
   "metadata": {},
   "outputs": [
    {
     "name": "stdout",
     "output_type": "stream",
     "text": [
      "Vowels in 'hello world': 3\n"
     ]
    }
   ],
   "source": [
    "# ----------------------------------------------------------\n",
    "# Q4) Write a function to Count Vowels in a String.\n",
    "# Example:\n",
    "# count_vowels(\"hello world\") -> 3\n",
    "# ----------------------------------------------------------\n",
    "def count_vowels(s: str) -> int:\n",
    "    vowels = \"aeiou\"\n",
    "    return sum(1 for ch in s.lower() if ch in vowels)\n",
    "\n",
    "print(\"Vowels in 'hello world':\", count_vowels(\"hello world\"))"
   ]
  },
  {
   "cell_type": "code",
   "execution_count": 7,
   "id": "e15b7541-796b-4d68-bcf5-a2bef931e43e",
   "metadata": {},
   "outputs": [
    {
     "name": "stdout",
     "output_type": "stream",
     "text": [
      "Area of circle (r=7): 153.93804002589985\n"
     ]
    }
   ],
   "source": [
    "# ----------------------------------------------------------\n",
    "# Q5) Write a function to find the area of a circle.\n",
    "# Example:\n",
    "# area_of_circle(7) -> 153.94 (approx)\n",
    "# ----------------------------------------------------------\n",
    "def area_of_circle(r: float) -> float:\n",
    "    return math.pi * r**2\n",
    "\n",
    "print(\"Area of circle (r=7):\", area_of_circle(7))"
   ]
  },
  {
   "cell_type": "code",
   "execution_count": null,
   "id": "018500d6-f615-4ead-980e-6b1945ef7b8a",
   "metadata": {},
   "outputs": [],
   "source": []
  }
 ],
 "metadata": {
  "kernelspec": {
   "display_name": "Python 3 (ipykernel)",
   "language": "python",
   "name": "python3"
  },
  "language_info": {
   "codemirror_mode": {
    "name": "ipython",
    "version": 3
   },
   "file_extension": ".py",
   "mimetype": "text/x-python",
   "name": "python",
   "nbconvert_exporter": "python",
   "pygments_lexer": "ipython3",
   "version": "3.13.5"
  }
 },
 "nbformat": 4,
 "nbformat_minor": 5
}
