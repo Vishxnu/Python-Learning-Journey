{
 "cells": [
  {
   "cell_type": "code",
   "execution_count": 53,
   "id": "84584e5d-4540-4c77-88c2-cfaff0022a6b",
   "metadata": {},
   "outputs": [],
   "source": [
    "                                    # ==========================================================\n",
    "                                    # 🐍 The Legend of Python - Day 11 Solutions\n",
    "                                    # Functional Programming (map, filter, reduce) + Date Problems\n",
    "                                    # =========================================================="
   ]
  },
  {
   "cell_type": "code",
   "execution_count": 52,
   "id": "a7cd0a42-c915-4b19-acfe-9059518c1e71",
   "metadata": {},
   "outputs": [],
   "source": [
    "from functools import reduce\n",
    "import math\n",
    "from datetime import datetime"
   ]
  },
  {
   "cell_type": "code",
   "execution_count": 50,
   "id": "653f5955-bcac-493f-82b1-bfa64a316951",
   "metadata": {},
   "outputs": [
    {
     "name": "stdout",
     "output_type": "stream",
     "text": [
      "Concatenation: HelloWorldPython\n"
     ]
    }
   ],
   "source": [
    "# ----------------------------------------------------------\n",
    "# Q1) Given a list of strings, concatenate them using reduce.\n",
    "# Example:\n",
    "# concat_strings([\"Hello\", \"World\", \"Python\"]) -> \"HelloWorldPython\"\n",
    "# ----------------------------------------------------------\n",
    "def concat_strings(strings: list) -> str:\n",
    "    return reduce(lambda x, y: x + y, strings)\n",
    "\n",
    "print(\"Concatenation:\", concat_strings([\"Hello\", \"World\", \"Python\"]))"
   ]
  },
  {
   "cell_type": "code",
   "execution_count": 51,
   "id": "892f5c1a-e84a-4c6a-8796-be737c41e0ad",
   "metadata": {},
   "outputs": [
    {
     "name": "stdout",
     "output_type": "stream",
     "text": [
      "Even numbers: [2, 4, 6]\n",
      "Odd numbers: [1, 3, 5]\n"
     ]
    }
   ],
   "source": [
    "# ----------------------------------------------------------\n",
    "# Q2) Given a list of numbers, use filter to get even and odd numbers.\n",
    "# Example:\n",
    "# filter_even([1,2,3,4]) -> [2,4]\n",
    "# filter_odd([1,2,3,4]) -> [1,3]\n",
    "# ----------------------------------------------------------\n",
    "def filter_even(nums: list) -> list:\n",
    "    return list(filter(lambda x: x % 2 == 0, nums))\n",
    "\n",
    "def filter_odd(nums: list) -> list:\n",
    "    return list(filter(lambda x: x % 2 != 0, nums))\n",
    "\n",
    "print(\"Even numbers:\", filter_even([1,2,3,4,5,6]))\n",
    "print(\"Odd numbers:\", filter_odd([1,2,3,4,5,6]))"
   ]
  },
  {
   "cell_type": "code",
   "execution_count": 49,
   "id": "bf637918-1e1d-46a1-86a3-953b4f08760f",
   "metadata": {},
   "outputs": [
    {
     "name": "stdout",
     "output_type": "stream",
     "text": [
      "Uppercase strings: ['Hi', 'WORLD']\n",
      "Lowercase strings: ['hello']\n"
     ]
    }
   ],
   "source": [
    "# ----------------------------------------------------------\n",
    "# Q3) Given a list of strings, filter uppercase and lowercase strings.\n",
    "# Example:\n",
    "# filter_upper([\"Hi\", \"hello\", \"WORLD\"]) -> ['Hi','WORLD']\n",
    "# filter_lower([\"Hi\", \"hello\", \"WORLD\"]) -> ['hello']\n",
    "# ----------------------------------------------------------\n",
    "def filter_upper(strings: list) -> list:\n",
    "    return list(filter(lambda s: s.isupper() or (s[0].isupper() and s[1:].islower()), strings))\n",
    "\n",
    "def filter_lower(strings: list) -> list:\n",
    "    return list(filter(lambda s: s.islower(), strings))\n",
    "\n",
    "print(\"Uppercase strings:\", filter_upper([\"Hi\", \"hello\", \"WORLD\"]))\n",
    "print(\"Lowercase strings:\", filter_lower([\"Hi\", \"hello\", \"WORLD\"]))"
   ]
  },
  {
   "cell_type": "code",
   "execution_count": 47,
   "id": "f54b899d-dc17-4b89-84b4-a4439c986062",
   "metadata": {},
   "outputs": [
    {
     "name": "stdout",
     "output_type": "stream",
     "text": [
      "Alphabet strings: ['abc']\n",
      "Numeric strings: ['123']\n",
      "Alphanumeric strings: ['abc123']\n"
     ]
    }
   ],
   "source": [
    "# ----------------------------------------------------------\n",
    "# Q4) Filter alphabet strings, numerical strings, and alphanumerical strings.\n",
    "# Example:\n",
    "# filter_alpha([\"abc\",\"123\",\"abc123\"]) -> ['abc']\n",
    "# filter_numeric([\"abc\",\"123\",\"abc123\"]) -> ['123']\n",
    "# filter_alnum([\"abc\",\"123\",\"abc123\"]) -> ['abc123']\n",
    "# ----------------------------------------------------------\n",
    "def filter_alpha(strings: list) -> list:\n",
    "    return list(filter(lambda s: s.isalpha(), strings))\n",
    "\n",
    "def filter_numeric(strings: list) -> list:\n",
    "    return list(filter(lambda s: s.isdigit(), strings))\n",
    "\n",
    "def filter_alnum(strings: list) -> list:\n",
    "    return list(filter(lambda s: s.isalnum() and not (s.isalpha() or s.isdigit()), strings))\n",
    "\n",
    "print(\"Alphabet strings:\", filter_alpha([\"abc\",\"123\",\"abc123\"]))\n",
    "print(\"Numeric strings:\", filter_numeric([\"abc\",\"123\",\"abc123\"]))\n",
    "print(\"Alphanumeric strings:\", filter_alnum([\"abc\",\"123\",\"abc123\"]))"
   ]
  },
  {
   "cell_type": "code",
   "execution_count": 48,
   "id": "2fb86a57-ae07-4737-bc01-76251406db7c",
   "metadata": {},
   "outputs": [
    {
     "name": "stdout",
     "output_type": "stream",
     "text": [
      "Product of lists: [4, 10, 18]\n"
     ]
    }
   ],
   "source": [
    "# ----------------------------------------------------------\n",
    "# Q5) Given 2 lists, use map to multiply their elements.\n",
    "# Example:\n",
    "# product_lists([1,2,3], [4,5,6]) -> [4,10,18]\n",
    "# ----------------------------------------------------------\n",
    "def product_lists(lst1: list, lst2: list) -> list:\n",
    "    return list(map(lambda x, y: x * y, lst1, lst2))\n",
    "\n",
    "print(\"Product of lists:\", product_lists([1,2,3], [4,5,6]))\n"
   ]
  },
  {
   "cell_type": "code",
   "execution_count": 46,
   "id": "6c689713-9a3a-46c6-953b-e19b2b5f6169",
   "metadata": {},
   "outputs": [
    {
     "name": "stdout",
     "output_type": "stream",
     "text": [
      "Capitalized names: ['Alice', 'Bob', 'Charlie']\n"
     ]
    }
   ],
   "source": [
    "# ----------------------------------------------------------\n",
    "# Q6) Capitalize all names in a list using map.\n",
    "# Example:\n",
    "# capitalize_names(['alice','bob']) -> ['Alice','Bob']\n",
    "# ----------------------------------------------------------\n",
    "def capitalize_names(names: list) -> list:\n",
    "    return list(map(lambda name: name.capitalize(), names))\n",
    "\n",
    "print(\"Capitalized names:\", capitalize_names(['alice', 'bob', 'charlie']))"
   ]
  },
  {
   "cell_type": "code",
   "execution_count": 45,
   "id": "534dd97d-01e2-4d61-ac54-89b5a0b84518",
   "metadata": {},
   "outputs": [
    {
     "name": "stdout",
     "output_type": "stream",
     "text": [
      "Celsius to Fahrenheit: [32.0, 50.0, 68.0, 86.0]\n"
     ]
    }
   ],
   "source": [
    "# ----------------------------------------------------------\n",
    "# Q7) Convert Celsius to Fahrenheit using map.\n",
    "# Formula: F = C * 9/5 + 32\n",
    "# Example:\n",
    "# celsius_to_fahrenheit([0,10,20]) -> [32,50,68]\n",
    "# ----------------------------------------------------------\n",
    "def celsius_to_fahrenheit(celsius_list: list) -> list:\n",
    "    return list(map(lambda c: c * 9/5 + 32, celsius_list))\n",
    "\n",
    "print(\"Celsius to Fahrenheit:\", celsius_to_fahrenheit([0,10,20,30]))"
   ]
  },
  {
   "cell_type": "code",
   "execution_count": 44,
   "id": "dcf9e318-7ba2-42f5-8105-23035e3bc6a6",
   "metadata": {},
   "outputs": [
    {
     "name": "stdout",
     "output_type": "stream",
     "text": [
      "Sum of even squares: 120\n"
     ]
    }
   ],
   "source": [
    "# ----------------------------------------------------------\n",
    "# Q8) Sum of squares of even numbers using filter, map, reduce.\n",
    "# Example:\n",
    "# sum_even_squares([1,2,3,4]) -> 20\n",
    "# ----------------------------------------------------------\n",
    "def sum_even_squares(nums: list) -> int:\n",
    "    evens = filter(lambda x: x % 2 == 0, nums)\n",
    "    squares = map(lambda x: x**2, evens)\n",
    "    return reduce(lambda x, y: x + y, squares)\n",
    "\n",
    "print(\"Sum of even squares:\", sum_even_squares([1,2,3,4,5,6,7,8]))"
   ]
  },
  {
   "cell_type": "code",
   "execution_count": 43,
   "id": "0335bb08-9c8a-40ae-9bd0-2d85561f1f87",
   "metadata": {},
   "outputs": [
    {
     "name": "stdout",
     "output_type": "stream",
     "text": [
      "Count S names: 2\n"
     ]
    }
   ],
   "source": [
    "# ----------------------------------------------------------\n",
    "# Q9) Filter names starting with 'S' and count them using reduce.\n",
    "# Example:\n",
    "# count_s_names(['Sam','Ella','Sally','Alex']) -> 2\n",
    "# ----------------------------------------------------------\n",
    "def count_s_names(names: list) -> int:\n",
    "    s_names = filter(lambda n: n.startswith('S'), names)\n",
    "    return reduce(lambda x, _: x + 1, s_names, 0)\n",
    "\n",
    "print(\"Count S names:\", count_s_names(['Sam','Ella','Sally','Alex']))"
   ]
  },
  {
   "cell_type": "code",
   "execution_count": 42,
   "id": "82b5128c-dfed-4985-872e-af987c5c205d",
   "metadata": {},
   "outputs": [
    {
     "name": "stdout",
     "output_type": "stream",
     "text": [
      "Normalized list: [0.0, 0.25, 0.5, 0.75, 1.0]\n"
     ]
    }
   ],
   "source": [
    "# ----------------------------------------------------------\n",
    "# Q10) Normalize numbers to range [0,1] using map.\n",
    "# Formula: (x - min) / (max - min)\n",
    "# Example:\n",
    "# normalize([10,20,30,40,50]) -> [0.0,0.25,0.5,0.75,1.0]\n",
    "# ----------------------------------------------------------\n",
    "def normalize(nums: list) -> list:\n",
    "    mn, mx = min(nums), max(nums)\n",
    "    return list(map(lambda x: (x - mn) / (mx - mn), nums))\n",
    "\n",
    "print(\"Normalized list:\", normalize([10,20,30,40,50]))"
   ]
  },
  {
   "cell_type": "code",
   "execution_count": 41,
   "id": "13751432-dc42-4498-a12e-22be497ca5f0",
   "metadata": {},
   "outputs": [
    {
     "name": "stdout",
     "output_type": "stream",
     "text": [
      "Max consecutive diff: 19\n"
     ]
    }
   ],
   "source": [
    "# ----------------------------------------------------------\n",
    "# Q11) Maximum difference between consecutive numbers.\n",
    "# Example:\n",
    "# max_diff([5,10,1,20,15]) -> 19\n",
    "# ----------------------------------------------------------\n",
    "def max_diff(nums: list) -> int:\n",
    "    diffs = list(map(lambda x, y: abs(y - x), nums[:-1], nums[1:]))\n",
    "    return reduce(lambda a, b: a if a > b else b, diffs)\n",
    "\n",
    "print(\"Max consecutive diff:\", max_diff([5,10,1,20,15]))"
   ]
  },
  {
   "cell_type": "code",
   "execution_count": 40,
   "id": "e016fda2-b2f2-4d6e-8ee3-7b558533b5c3",
   "metadata": {},
   "outputs": [
    {
     "name": "stdout",
     "output_type": "stream",
     "text": [
      "Unique even square sum: 56\n"
     ]
    }
   ],
   "source": [
    "# ----------------------------------------------------------\n",
    "# Q12) Sum of unique squares of even numbers.\n",
    "# Example:\n",
    "# unique_even_square_sum([1,2,2,3,4,4,5,6]) -> 56\n",
    "# (Squares: 4,16,36 -> sum=56)\n",
    "# ----------------------------------------------------------\n",
    "def unique_even_square_sum(nums: list) -> int:\n",
    "    evens = filter(lambda x: x % 2 == 0, nums)\n",
    "    squares = map(lambda x: x**2, evens)\n",
    "    unique_squares = set(squares)\n",
    "    return reduce(lambda x, y: x + y, unique_squares)\n",
    "\n",
    "print(\"Unique even square sum:\", unique_even_square_sum([1,2,2,3,4,4,5,6]))"
   ]
  },
  {
   "cell_type": "code",
   "execution_count": 39,
   "id": "fa70a73c-a312-40d7-b854-395344474641",
   "metadata": {},
   "outputs": [
    {
     "name": "stdout",
     "output_type": "stream",
     "text": [
      "Max string length: 9\n"
     ]
    }
   ],
   "source": [
    "# ----------------------------------------------------------\n",
    "# Q13) Use map to convert strings to their lengths and reduce to max.\n",
    "# Example:\n",
    "# max_string_length([\"hello\",\"world\",\"python\"]) -> 8\n",
    "# ----------------------------------------------------------\n",
    "def max_string_length(strings: list) -> int:\n",
    "    lengths = map(len, strings)\n",
    "    return reduce(lambda a, b: a if a > b else b, lengths)\n",
    "\n",
    "print(\"Max string length:\", max_string_length([\"hello\",\"world\",\"python\",\"excellent\"]))"
   ]
  },
  {
   "cell_type": "code",
   "execution_count": 37,
   "id": "abe6b416-38bb-4471-a30c-419198329ff1",
   "metadata": {},
   "outputs": [
    {
     "name": "stdout",
     "output_type": "stream",
     "text": [
      "Age: 25\n"
     ]
    }
   ],
   "source": [
    "# ----------------------------------------------------------\n",
    "# Q14) Calculate Age from birthdate.\n",
    "# Example:\n",
    "# calculate_age(\"2000-05-15\") -> 25 (in 2025)\n",
    "# ----------------------------------------------------------\n",
    "def calculate_age(birthdate: str) -> int:\n",
    "    birth = datetime.strptime(birthdate, \"%Y-%m-%d\")\n",
    "    today = datetime.today()\n",
    "    return today.year - birth.year - ((today.month, today.day) < (birth.month, birth.day))\n",
    "\n",
    "print(\"Age:\", calculate_age(\"2000-05-15\"))"
   ]
  },
  {
   "cell_type": "code",
   "execution_count": 36,
   "id": "95f404ec-048a-4cb1-b0b3-c55434efddb0",
   "metadata": {},
   "outputs": [
    {
     "name": "stdout",
     "output_type": "stream",
     "text": [
      "Age group: Teen\n"
     ]
    }
   ],
   "source": [
    "# ----------------------------------------------------------\n",
    "# Q15) Age group classification.\n",
    "# Example:\n",
    "# classify_age(\"2010-01-01\") -> \"Teen\"\n",
    "# ----------------------------------------------------------\n",
    "def classify_age(birthdate: str) -> str:\n",
    "    age = calculate_age(birthdate)\n",
    "    if age < 13:\n",
    "        return \"Child\"\n",
    "    elif age < 20:\n",
    "        return \"Teen\"\n",
    "    elif age < 60:\n",
    "        return \"Adult\"\n",
    "    else:\n",
    "        return \"Senior Citizen\"\n",
    "\n",
    "print(\"Age group:\", classify_age(\"2010-01-01\"))"
   ]
  },
  {
   "cell_type": "code",
   "execution_count": 35,
   "id": "c603f057-4f8e-4e8f-b86c-60505f9d5ebc",
   "metadata": {},
   "outputs": [
    {
     "name": "stdout",
     "output_type": "stream",
     "text": [
      "Day of week: Saturday\n"
     ]
    }
   ],
   "source": [
    "# ----------------------------------------------------------\n",
    "# Q16) Day of the week from a given date.\n",
    "# Example:\n",
    "# day_of_week(\"2025-08-30\") -> \"Saturday\"\n",
    "# ----------------------------------------------------------\n",
    "def day_of_week(date_str: str) -> str:\n",
    "    date_obj = datetime.strptime(date_str, \"%Y-%m-%d\")\n",
    "    return date_obj.strftime(\"%A\")\n",
    "\n",
    "print(\"Day of week:\", day_of_week(\"2025-08-30\"))"
   ]
  },
  {
   "cell_type": "code",
   "execution_count": 34,
   "id": "dd8a9991-4c46-4fb4-9fa3-b25a76fdef6a",
   "metadata": {},
   "outputs": [
    {
     "name": "stdout",
     "output_type": "stream",
     "text": [
      "Leap year 2024: True\n",
      "Leap year 2025: False\n"
     ]
    }
   ],
   "source": [
    "# ----------------------------------------------------------\n",
    "# Q17) Leap year check.\n",
    "# Example:\n",
    "# is_leap_year(2024) -> True\n",
    "# ----------------------------------------------------------\n",
    "def is_leap_year(year: int) -> bool:\n",
    "    return year % 4 == 0 and (year % 100 != 0 or year % 400 == 0)\n",
    "\n",
    "print(\"Leap year 2024:\", is_leap_year(2024))\n",
    "print(\"Leap year 2025:\", is_leap_year(2025))"
   ]
  },
  {
   "cell_type": "code",
   "execution_count": null,
   "id": "446e921e-0fd7-4b40-8d7e-0f94847e4eb2",
   "metadata": {},
   "outputs": [],
   "source": []
  }
 ],
 "metadata": {
  "kernelspec": {
   "display_name": "Python 3 (ipykernel)",
   "language": "python",
   "name": "python3"
  },
  "language_info": {
   "codemirror_mode": {
    "name": "ipython",
    "version": 3
   },
   "file_extension": ".py",
   "mimetype": "text/x-python",
   "name": "python",
   "nbconvert_exporter": "python",
   "pygments_lexer": "ipython3",
   "version": "3.13.5"
  }
 },
 "nbformat": 4,
 "nbformat_minor": 5
}
